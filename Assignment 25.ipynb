{
 "cells": [
  {
   "cell_type": "markdown",
   "id": "metallic-match",
   "metadata": {},
   "source": [
    "                                            Assignment 25"
   ]
  },
  {
   "cell_type": "markdown",
   "id": "welcome-slovenia",
   "metadata": {},
   "source": [
    "Question1\n",
    "Create a function that takes three integer arguments (a, b, c) and returns the amount of\n",
    "integers which are of equal value."
   ]
  },
  {
   "cell_type": "code",
   "execution_count": 17,
   "id": "spread-january",
   "metadata": {},
   "outputs": [],
   "source": [
    "def equal(a,b,c):\n",
    "    l = [a,b,c]\n",
    "    d = {}\n",
    "    maxi = 0\n",
    "    for i in l:\n",
    "        if i in d:\n",
    "            d[i] = d[i] + 1\n",
    "        else:\n",
    "            d[i] = 1\n",
    "    for i in d.values():\n",
    "        if i >= maxi:\n",
    "            maxi = i\n",
    "    if maxi == 1:\n",
    "        return 0\n",
    "    else:\n",
    "        return maxi"
   ]
  },
  {
   "cell_type": "code",
   "execution_count": 18,
   "id": "current-toddler",
   "metadata": {},
   "outputs": [
    {
     "name": "stdout",
     "output_type": "stream",
     "text": [
      "2\n"
     ]
    }
   ],
   "source": [
    "print(equal(3, 4, 3))"
   ]
  },
  {
   "cell_type": "code",
   "execution_count": 19,
   "id": "approximate-cabinet",
   "metadata": {},
   "outputs": [
    {
     "name": "stdout",
     "output_type": "stream",
     "text": [
      "3\n"
     ]
    }
   ],
   "source": [
    "print(equal(1, 1, 1))"
   ]
  },
  {
   "cell_type": "code",
   "execution_count": 20,
   "id": "gorgeous-feelings",
   "metadata": {},
   "outputs": [
    {
     "name": "stdout",
     "output_type": "stream",
     "text": [
      "0\n"
     ]
    }
   ],
   "source": [
    "print(equal(3, 4, 1))"
   ]
  },
  {
   "cell_type": "markdown",
   "id": "furnished-liberty",
   "metadata": {},
   "source": [
    "Question2\n",
    "Write a function that converts a dictionary into a list of keys-values tuples."
   ]
  },
  {
   "cell_type": "code",
   "execution_count": 31,
   "id": "governmental-stereo",
   "metadata": {},
   "outputs": [],
   "source": [
    "def dict_to_list(d):\n",
    "    ans = []\n",
    "    for i in sorted(d.keys()):\n",
    "        ans.append((i,d[i]))\n",
    "    return ans"
   ]
  },
  {
   "cell_type": "code",
   "execution_count": 32,
   "id": "chicken-offset",
   "metadata": {},
   "outputs": [
    {
     "name": "stdout",
     "output_type": "stream",
     "text": [
      "[('B', 2), ('C', 3), ('D', 1)]\n"
     ]
    }
   ],
   "source": [
    "print(dict_to_list({\n",
    "\"D\": 1,\n",
    "\"B\": 2,\n",
    "\"C\": 3\n",
    "}))"
   ]
  },
  {
   "cell_type": "code",
   "execution_count": 33,
   "id": "wrong-greensboro",
   "metadata": {},
   "outputs": [
    {
     "name": "stdout",
     "output_type": "stream",
     "text": [
      "[('dislikes', 3), ('followers', 10), ('likes', 2)]\n"
     ]
    }
   ],
   "source": [
    "print(dict_to_list({\n",
    "\"likes\": 2,\n",
    "\"dislikes\": 3,\n",
    "\"followers\": 10\n",
    "}))"
   ]
  },
  {
   "cell_type": "markdown",
   "id": "special-voice",
   "metadata": {},
   "source": [
    "Question3\n",
    "Write a function that creates a dictionary with each (key, value) pair being the (lower case,\n",
    "upper case) versions of a letter, respectively."
   ]
  },
  {
   "cell_type": "code",
   "execution_count": 41,
   "id": "suffering-surgery",
   "metadata": {},
   "outputs": [],
   "source": [
    "def mapping(l):\n",
    "    d = {}\n",
    "    for i in l:\n",
    "        d[i] = chr(ord(i)-32)\n",
    "    return d"
   ]
  },
  {
   "cell_type": "code",
   "execution_count": 43,
   "id": "appointed-sensitivity",
   "metadata": {},
   "outputs": [
    {
     "name": "stdout",
     "output_type": "stream",
     "text": [
      "{'p': 'P', 's': 'S'}\n"
     ]
    }
   ],
   "source": [
    "print(mapping([\"p\",\"s\"]))"
   ]
  },
  {
   "cell_type": "code",
   "execution_count": 44,
   "id": "criminal-symposium",
   "metadata": {},
   "outputs": [
    {
     "name": "stdout",
     "output_type": "stream",
     "text": [
      "{'a': 'A', 'b': 'B', 'c': 'C'}\n"
     ]
    }
   ],
   "source": [
    "print(mapping([\"a\",\"b\",\"c\"]))"
   ]
  },
  {
   "cell_type": "code",
   "execution_count": 45,
   "id": "following-rogers",
   "metadata": {},
   "outputs": [
    {
     "name": "stdout",
     "output_type": "stream",
     "text": [
      "{'a': 'A', 'v': 'V', 'y': 'Y', 'z': 'Z'}\n"
     ]
    }
   ],
   "source": [
    "print(mapping([\"a\",\"v\",\"y\",\"z\"]))"
   ]
  },
  {
   "cell_type": "markdown",
   "id": "consecutive-latitude",
   "metadata": {},
   "source": [
    "Question4\n",
    "Write a function, that replaces all vowels in a string with a specified vowel."
   ]
  },
  {
   "cell_type": "code",
   "execution_count": 52,
   "id": "asian-victory",
   "metadata": {},
   "outputs": [],
   "source": [
    "def vow_replace(s,v):\n",
    "    l = list(s)\n",
    "    res = ''\n",
    "    vow = \"aeiouAEIOU\"\n",
    "    for i in range(len(l)):\n",
    "        if l[i] in vow:\n",
    "            l[i] = v\n",
    "        res = res + l[i]\n",
    "    \n",
    "    return res\n",
    "            \n",
    "        "
   ]
  },
  {
   "cell_type": "code",
   "execution_count": 53,
   "id": "controversial-flooring",
   "metadata": {},
   "outputs": [
    {
     "name": "stdout",
     "output_type": "stream",
     "text": [
      "upplus und bununus\n"
     ]
    }
   ],
   "source": [
    "print(vow_replace(\"apples and bananas\", \"u\"))"
   ]
  },
  {
   "cell_type": "code",
   "execution_count": 55,
   "id": "surprised-girlfriend",
   "metadata": {},
   "outputs": [
    {
     "name": "stdout",
     "output_type": "stream",
     "text": [
      "chooso cossorolo\n"
     ]
    }
   ],
   "source": [
    "print(vow_replace(\"cheese casserole\", \"o\"))"
   ]
  },
  {
   "cell_type": "code",
   "execution_count": 56,
   "id": "violent-disease",
   "metadata": {},
   "outputs": [
    {
     "name": "stdout",
     "output_type": "stream",
     "text": [
      "steffed jelepene peppers\n"
     ]
    }
   ],
   "source": [
    "print(vow_replace(\"stuffed jalapeno poppers\", \"e\"))"
   ]
  },
  {
   "cell_type": "markdown",
   "id": "mental-guyana",
   "metadata": {},
   "source": [
    "Question5\n",
    "Create a function that takes a string as input and capitalizes a letter if its ASCII code is even\n",
    "and returns its lower case version if its ASCII code is odd."
   ]
  },
  {
   "cell_type": "code",
   "execution_count": 85,
   "id": "developmental-facility",
   "metadata": {},
   "outputs": [],
   "source": [
    "def lower(i):\n",
    "    if ord(i)<=90 and ord(i)>=65:\n",
    "        return chr(ord(i)+32)\n",
    "    elif(ord(i)<=122 and ord(i)>=97):\n",
    "        return i\n",
    "    else:\n",
    "        return i\n",
    "\n",
    "def upper(i):\n",
    "    if ord(i)<=90 and ord(i)>=65:\n",
    "        return i\n",
    "    elif(ord(i)<=122 and ord(i)>=97):\n",
    "        return chr(ord(i)-32)\n",
    "    else:\n",
    "        return i\n",
    "    \n",
    "def ascii_capitalize(s):\n",
    "    l = list(s)\n",
    "    res = ''\n",
    "    for i in range(len(l)):\n",
    "        if i%2==0:\n",
    "            temp = lower(l[i])\n",
    "        else:\n",
    "            temp = upper(l[i])\n",
    "        res = res + temp\n",
    "    return res\n",
    "\n",
    "\n",
    "    \n",
    "    "
   ]
  },
  {
   "cell_type": "code",
   "execution_count": 86,
   "id": "flexible-macintosh",
   "metadata": {},
   "outputs": [
    {
     "name": "stdout",
     "output_type": "stream",
     "text": [
      "tO Be oR NoT To bE!\n"
     ]
    }
   ],
   "source": [
    "print(ascii_capitalize(\"to be or not to be!\"))"
   ]
  },
  {
   "cell_type": "code",
   "execution_count": 87,
   "id": "arctic-shelter",
   "metadata": {},
   "outputs": [
    {
     "name": "stdout",
     "output_type": "stream",
     "text": [
      "tHe lItTlE MeRmAiD\n"
     ]
    }
   ],
   "source": [
    "print(ascii_capitalize(\"THE LITTLE MERMAID\"))"
   ]
  },
  {
   "cell_type": "code",
   "execution_count": 88,
   "id": "gorgeous-witch",
   "metadata": {},
   "outputs": [
    {
     "name": "stdout",
     "output_type": "stream",
     "text": [
      "oH WhAt a bEaUtIfUl mOrNiNg.\n"
     ]
    }
   ],
   "source": [
    "print(ascii_capitalize(\"Oh what a beautiful morning.\"))"
   ]
  },
  {
   "cell_type": "code",
   "execution_count": null,
   "id": "persistent-proposition",
   "metadata": {},
   "outputs": [],
   "source": []
  }
 ],
 "metadata": {
  "kernelspec": {
   "display_name": "Python 3",
   "language": "python",
   "name": "python3"
  },
  "language_info": {
   "codemirror_mode": {
    "name": "ipython",
    "version": 3
   },
   "file_extension": ".py",
   "mimetype": "text/x-python",
   "name": "python",
   "nbconvert_exporter": "python",
   "pygments_lexer": "ipython3",
   "version": "3.7.10"
  }
 },
 "nbformat": 4,
 "nbformat_minor": 5
}

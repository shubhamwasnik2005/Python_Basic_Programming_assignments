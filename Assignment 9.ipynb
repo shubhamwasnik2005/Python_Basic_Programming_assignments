{
 "cells": [
  {
   "cell_type": "markdown",
   "id": "sticky-density",
   "metadata": {},
   "source": [
    "                          Assignment 9\n",
    " 1.\tWrite a Python program to check if the given number is a Disarium Number?"
   ]
  },
  {
   "cell_type": "code",
   "execution_count": 8,
   "id": "understood-energy",
   "metadata": {},
   "outputs": [
    {
     "name": "stdout",
     "output_type": "stream",
     "text": [
      "Enter number :- 80\n",
      "Given number is not disarium number\n"
     ]
    }
   ],
   "source": [
    "n = int(input(\"Enter number :- \"))\n",
    "# counting number of digits\n",
    "temp = n\n",
    "ori = n\n",
    "count = 0\n",
    "while(n!=0):\n",
    "    n = n//10\n",
    "    count = count + 1\n",
    "\n",
    "ncount = count\n",
    "sumi = 0\n",
    "for i in range(count):\n",
    "    sumi = sumi + (temp%10)**ncount\n",
    "    ncount =ncount - 1\n",
    "    temp = temp//10\n",
    "    \n",
    "if ori == sumi:\n",
    "    print(\"Given number is disarium number\")\n",
    "else:\n",
    "    print(\"Given number is not disarium number\")\n",
    "    \n",
    "    "
   ]
  },
  {
   "cell_type": "markdown",
   "id": "above-professional",
   "metadata": {},
   "source": [
    "2.\tWrite a Python program to print all disarium numbers between 1 to 100?"
   ]
  },
  {
   "cell_type": "code",
   "execution_count": 13,
   "id": "bright-auction",
   "metadata": {},
   "outputs": [
    {
     "name": "stdout",
     "output_type": "stream",
     "text": [
      "1\n",
      "2\n",
      "3\n",
      "4\n",
      "5\n",
      "6\n",
      "7\n",
      "8\n",
      "9\n",
      "89\n"
     ]
    }
   ],
   "source": [
    "for n in range(1,100):\n",
    "    temp = n\n",
    "    ori = n\n",
    "    count = 0\n",
    "    while(n!=0):\n",
    "        n = n//10\n",
    "        count = count + 1\n",
    "\n",
    "    ncount = count\n",
    "    sumi = 0\n",
    "    for i in range(count):\n",
    "        sumi = sumi + (temp%10)**ncount\n",
    "        ncount =ncount - 1\n",
    "        temp = temp//10\n",
    "\n",
    "    if ori == sumi:\n",
    "        print(sumi)\n",
    "     \n"
   ]
  },
  {
   "cell_type": "markdown",
   "id": "equipped-processing",
   "metadata": {},
   "source": [
    "3.\tWrite a Python program to check if the given number is Happy Number?"
   ]
  },
  {
   "cell_type": "code",
   "execution_count": 23,
   "id": "vocal-magic",
   "metadata": {},
   "outputs": [
    {
     "name": "stdout",
     "output_type": "stream",
     "text": [
      "Enter number :- 19\n",
      "Given number is Happy number \n"
     ]
    }
   ],
   "source": [
    "n = int(input(\"Enter number :- \"))\n",
    "l=[]\n",
    "happy = 0\n",
    "while(1):\n",
    "    sumi = 0\n",
    "    while n!=0:\n",
    "        sumi = sumi + (n%10)**2\n",
    "        n = n//10\n",
    "    if sumi == 1:\n",
    "        happy = 1\n",
    "        break\n",
    "    elif sumi in l:\n",
    "        happy == 0\n",
    "        break\n",
    "    else:\n",
    "        l.append(sumi)\n",
    "    n=sumi\n",
    "    \n",
    "if happy == 1:\n",
    "    print(\"Given number is Happy number \")\n",
    "else:\n",
    "    print(\"Given number is not happy number \")\n",
    "    "
   ]
  },
  {
   "cell_type": "markdown",
   "id": "personalized-brisbane",
   "metadata": {},
   "source": [
    "4.\tWrite a Python program to print all happy numbers between 1 and 100?"
   ]
  },
  {
   "cell_type": "code",
   "execution_count": 24,
   "id": "demanding-landing",
   "metadata": {},
   "outputs": [
    {
     "name": "stdout",
     "output_type": "stream",
     "text": [
      "1\n",
      "7\n",
      "10\n",
      "13\n",
      "19\n",
      "23\n",
      "28\n",
      "31\n",
      "32\n",
      "44\n",
      "49\n",
      "68\n",
      "70\n",
      "79\n",
      "82\n",
      "86\n",
      "91\n",
      "94\n",
      "97\n"
     ]
    }
   ],
   "source": [
    "for n in range(1,100):\n",
    "    ori = n\n",
    "    l=[]\n",
    "    happy = 0\n",
    "    while(1):\n",
    "        sumi = 0\n",
    "        while n!=0:\n",
    "            sumi = sumi + (n%10)**2\n",
    "            n = n//10\n",
    "        if sumi == 1:\n",
    "            happy = 1\n",
    "            break\n",
    "        elif sumi in l:\n",
    "            happy == 0\n",
    "            break\n",
    "        else:\n",
    "            l.append(sumi)\n",
    "        n=sumi\n",
    "        \n",
    "    if happy == 1:\n",
    "        print(ori)\n",
    "    "
   ]
  },
  {
   "cell_type": "markdown",
   "id": "developmental-sample",
   "metadata": {},
   "source": [
    "5.\tWrite a Python program to determine whether the given number is a Harshad Number?"
   ]
  },
  {
   "cell_type": "code",
   "execution_count": 7,
   "id": "eight-investigation",
   "metadata": {},
   "outputs": [
    {
     "name": "stdout",
     "output_type": "stream",
     "text": [
      "Enter number :- 8\n",
      "Given number is Harshad Number \n"
     ]
    }
   ],
   "source": [
    "n = int(input(\"Enter number :- \"))\n",
    "ori = n\n",
    "sumi = 0\n",
    "while n!=0:\n",
    "    sumi = sumi + (n%10)\n",
    "    n = n//10\n",
    "\n",
    "if ori%sumi == 0:\n",
    "    print(\"Given number is Harshad Number \")\n",
    "else:\n",
    "    print(\"Given number is not Harshad Number\")"
   ]
  },
  {
   "cell_type": "markdown",
   "id": "designed-wesley",
   "metadata": {},
   "source": [
    "6.\tWrite a Python program to print all pronic numbers between 1 and 100?"
   ]
  },
  {
   "cell_type": "code",
   "execution_count": 8,
   "id": "voluntary-latter",
   "metadata": {},
   "outputs": [
    {
     "name": "stdout",
     "output_type": "stream",
     "text": [
      "1\n",
      "2\n",
      "3\n",
      "4\n",
      "5\n",
      "6\n",
      "7\n",
      "8\n",
      "9\n",
      "10\n",
      "12\n",
      "18\n",
      "20\n",
      "21\n",
      "24\n",
      "27\n",
      "30\n",
      "36\n",
      "40\n",
      "42\n",
      "45\n",
      "48\n",
      "50\n",
      "54\n",
      "60\n",
      "63\n",
      "70\n",
      "72\n",
      "80\n",
      "81\n",
      "84\n",
      "90\n"
     ]
    }
   ],
   "source": [
    "for n in range(1,100):\n",
    "    ori = n\n",
    "    sumi = 0\n",
    "    while n!=0:\n",
    "        sumi = sumi + (n%10)\n",
    "        n = n//10\n",
    "\n",
    "    if ori%sumi == 0:\n",
    "        print(ori)\n",
    "     "
   ]
  },
  {
   "cell_type": "code",
   "execution_count": null,
   "id": "perfect-location",
   "metadata": {},
   "outputs": [],
   "source": []
  }
 ],
 "metadata": {
  "kernelspec": {
   "display_name": "Python 3",
   "language": "python",
   "name": "python3"
  },
  "language_info": {
   "codemirror_mode": {
    "name": "ipython",
    "version": 3
   },
   "file_extension": ".py",
   "mimetype": "text/x-python",
   "name": "python",
   "nbconvert_exporter": "python",
   "pygments_lexer": "ipython3",
   "version": "3.7.10"
  }
 },
 "nbformat": 4,
 "nbformat_minor": 5
}

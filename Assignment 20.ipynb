{
 "cells": [
  {
   "cell_type": "markdown",
   "id": "reserved-prayer",
   "metadata": {},
   "source": [
    "                                                   Assignment 20"
   ]
  },
  {
   "cell_type": "markdown",
   "id": "steady-liberty",
   "metadata": {},
   "source": [
    "Question1\n",
    "Create a function that takes a list of strings and integers, and filters out the list so that it\n",
    "returns a list of integers only."
   ]
  },
  {
   "cell_type": "code",
   "execution_count": 17,
   "id": "driven-agenda",
   "metadata": {},
   "outputs": [],
   "source": [
    "def filter_list(l):\n",
    "    ans = []\n",
    "    for i in l:\n",
    "        if type(i) == int:\n",
    "            ans.append(i)\n",
    "    return ans\n",
    "            "
   ]
  },
  {
   "cell_type": "code",
   "execution_count": 19,
   "id": "bibliographic-malaysia",
   "metadata": {},
   "outputs": [
    {
     "name": "stdout",
     "output_type": "stream",
     "text": [
      "[1, 2, 3, 4]\n"
     ]
    }
   ],
   "source": [
    "print(filter_list([1,2,3,\"a\",\"b\",4]))"
   ]
  },
  {
   "cell_type": "code",
   "execution_count": 20,
   "id": "apart-thread",
   "metadata": {},
   "outputs": [
    {
     "name": "stdout",
     "output_type": "stream",
     "text": [
      "[0, 1729]\n"
     ]
    }
   ],
   "source": [
    "print(filter_list([\"A\",0,\"Edabit\",1729,\"Python\",\"1729\"]))"
   ]
  },
  {
   "cell_type": "code",
   "execution_count": 23,
   "id": "palestinian-prefix",
   "metadata": {},
   "outputs": [
    {
     "name": "stdout",
     "output_type": "stream",
     "text": [
      "[]\n"
     ]
    }
   ],
   "source": [
    " print(filter_list([\"Nothing\",\"here\"]))"
   ]
  },
  {
   "cell_type": "markdown",
   "id": "brief-wednesday",
   "metadata": {},
   "source": [
    "Question2\n",
    "Given a list of numbers, create a function which returns the list but with each element&#39;s\n",
    "index in the list added to itself. This means you add 0 to the number at index 0, add 1 to the\n",
    "number at index 1, etc..."
   ]
  },
  {
   "cell_type": "code",
   "execution_count": 13,
   "id": "imported-accreditation",
   "metadata": {},
   "outputs": [],
   "source": [
    "def add_indexes(l):\n",
    "    n = len(l)\n",
    "    for i in range(n):\n",
    "        l[i] = l[i]+i\n",
    "    return l"
   ]
  },
  {
   "cell_type": "code",
   "execution_count": 14,
   "id": "right-mining",
   "metadata": {},
   "outputs": [
    {
     "name": "stdout",
     "output_type": "stream",
     "text": [
      "[0, 1, 2, 3, 4]\n"
     ]
    }
   ],
   "source": [
    "print(add_indexes([0,0,0,0,0]))"
   ]
  },
  {
   "cell_type": "code",
   "execution_count": 15,
   "id": "limiting-joining",
   "metadata": {},
   "outputs": [
    {
     "name": "stdout",
     "output_type": "stream",
     "text": [
      "[1, 3, 5, 7, 9]\n"
     ]
    }
   ],
   "source": [
    "print(add_indexes([1,2,3,4,5]))"
   ]
  },
  {
   "cell_type": "code",
   "execution_count": 16,
   "id": "authentic-acrylic",
   "metadata": {},
   "outputs": [
    {
     "name": "stdout",
     "output_type": "stream",
     "text": [
      "[5, 5, 5, 5, 5]\n"
     ]
    }
   ],
   "source": [
    "print(add_indexes([5,4,3,2,1]))"
   ]
  },
  {
   "cell_type": "markdown",
   "id": "needed-kenya",
   "metadata": {},
   "source": [
    "Question3\n",
    "Create a function that takes the height and radius of a cone as arguments and returns the\n",
    "volume of the cone rounded to the nearest hundredth. See the resources tab for the formula."
   ]
  },
  {
   "cell_type": "code",
   "execution_count": 8,
   "id": "adjustable-appointment",
   "metadata": {},
   "outputs": [],
   "source": [
    "def cone_volume(h,r):\n",
    "    from math import pi\n",
    "    return round(pi*r*r*(h/3),2)"
   ]
  },
  {
   "cell_type": "code",
   "execution_count": 10,
   "id": "raising-latvia",
   "metadata": {},
   "outputs": [
    {
     "name": "stdout",
     "output_type": "stream",
     "text": [
      "12.57\n"
     ]
    }
   ],
   "source": [
    "print(cone_volume(3,2))"
   ]
  },
  {
   "cell_type": "code",
   "execution_count": 11,
   "id": "christian-dallas",
   "metadata": {},
   "outputs": [
    {
     "name": "stdout",
     "output_type": "stream",
     "text": [
      "565.49\n"
     ]
    }
   ],
   "source": [
    "print(cone_volume(15,6))"
   ]
  },
  {
   "cell_type": "code",
   "execution_count": 12,
   "id": "unlikely-hacker",
   "metadata": {},
   "outputs": [
    {
     "name": "stdout",
     "output_type": "stream",
     "text": [
      "0.0\n"
     ]
    }
   ],
   "source": [
    "print(cone_volume(18,0))"
   ]
  },
  {
   "cell_type": "markdown",
   "id": "answering-committee",
   "metadata": {},
   "source": [
    "Question4\n",
    "This Triangular Number Sequence is generated from a pattern of dots that form a triangle.\n",
    "The first 5 numbers of the sequence, or dots, are:\n",
    "1, 3, 6, 10, 15\n",
    "This means that the first triangle has just one dot, the second one has three dots, the third one\n",
    "has 6 dots and so on.\n",
    "Write a function that gives the number of dots with its corresponding triangle number of the\n",
    "sequence."
   ]
  },
  {
   "cell_type": "code",
   "execution_count": 50,
   "id": "governing-letter",
   "metadata": {},
   "outputs": [],
   "source": [
    "def triangle(n):\n",
    "    return int(n*(n+1)/2)"
   ]
  },
  {
   "cell_type": "code",
   "execution_count": 54,
   "id": "global-injection",
   "metadata": {},
   "outputs": [
    {
     "name": "stdout",
     "output_type": "stream",
     "text": [
      "1\n"
     ]
    }
   ],
   "source": [
    "print(triangle(1))"
   ]
  },
  {
   "cell_type": "code",
   "execution_count": 55,
   "id": "nuclear-turning",
   "metadata": {},
   "outputs": [
    {
     "name": "stdout",
     "output_type": "stream",
     "text": [
      "21\n"
     ]
    }
   ],
   "source": [
    "print(triangle(6))"
   ]
  },
  {
   "cell_type": "code",
   "execution_count": 56,
   "id": "anticipated-white",
   "metadata": {},
   "outputs": [
    {
     "name": "stdout",
     "output_type": "stream",
     "text": [
      "23220\n"
     ]
    }
   ],
   "source": [
    "print(triangle(215))"
   ]
  },
  {
   "cell_type": "markdown",
   "id": "entire-therapist",
   "metadata": {},
   "source": [
    "Question5\n",
    "Create a function that takes a list of numbers between 1 and 10 (excluding one number) and\n",
    "returns the missing number."
   ]
  },
  {
   "cell_type": "code",
   "execution_count": 42,
   "id": "verified-charles",
   "metadata": {},
   "outputs": [],
   "source": [
    "def missing_num(l):\n",
    "    a = [1,2,3,4,5,6,7,8,9,10]\n",
    "    for i in a:\n",
    "        if i in l:\n",
    "            continue\n",
    "        else:\n",
    "            missing = i\n",
    "          \n",
    "    return missing\n",
    "            "
   ]
  },
  {
   "cell_type": "code",
   "execution_count": 43,
   "id": "second-silence",
   "metadata": {},
   "outputs": [
    {
     "name": "stdout",
     "output_type": "stream",
     "text": [
      "5\n"
     ]
    }
   ],
   "source": [
    "print(missing_num([1,2,3,4,6,7,8,9,10]))"
   ]
  },
  {
   "cell_type": "code",
   "execution_count": 44,
   "id": "rocky-father",
   "metadata": {},
   "outputs": [
    {
     "name": "stdout",
     "output_type": "stream",
     "text": [
      "10\n"
     ]
    }
   ],
   "source": [
    "print(missing_num([7,2,3,6,5,9,1,4,8]))"
   ]
  },
  {
   "cell_type": "code",
   "execution_count": 45,
   "id": "inside-error",
   "metadata": {},
   "outputs": [
    {
     "name": "stdout",
     "output_type": "stream",
     "text": [
      "7\n"
     ]
    }
   ],
   "source": [
    "print(missing_num([10,5,1,2,4,6,8,3,9]))"
   ]
  },
  {
   "cell_type": "code",
   "execution_count": null,
   "id": "decimal-scotland",
   "metadata": {},
   "outputs": [],
   "source": []
  }
 ],
 "metadata": {
  "kernelspec": {
   "display_name": "Python 3",
   "language": "python",
   "name": "python3"
  },
  "language_info": {
   "codemirror_mode": {
    "name": "ipython",
    "version": 3
   },
   "file_extension": ".py",
   "mimetype": "text/x-python",
   "name": "python",
   "nbconvert_exporter": "python",
   "pygments_lexer": "ipython3",
   "version": "3.7.10"
  }
 },
 "nbformat": 4,
 "nbformat_minor": 5
}

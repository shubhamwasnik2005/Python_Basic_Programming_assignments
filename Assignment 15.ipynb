{
 "cells": [
  {
   "cell_type": "markdown",
   "id": "inappropriate-sitting",
   "metadata": {},
   "source": [
    "                                                 Assignment 15"
   ]
  },
  {
   "cell_type": "markdown",
   "id": "narrative-rehabilitation",
   "metadata": {},
   "source": [
    "Que 1. Please write a program using generator to print the numbers which can be divisible by 5 and 7 between 0 and n in comma separated form while n is input by console.\n",
    "Example:\n",
    "If the following n is given as input to the program:\n",
    "100\n",
    "Then, the output of the program should be:\n",
    "0,35,70\n"
   ]
  },
  {
   "cell_type": "code",
   "execution_count": 13,
   "id": "monetary-parish",
   "metadata": {},
   "outputs": [
    {
     "name": "stdout",
     "output_type": "stream",
     "text": [
      "Enter number 100\n",
      "0,35,70\n"
     ]
    }
   ],
   "source": [
    "def divisibleTest(n):\n",
    "    if n%5==0 and n%7==0:\n",
    "        yield n\n",
    "\n",
    "n = int(input(\"Enter number \"))\n",
    "ans = []\n",
    "for i in range(0,n+1):\n",
    "    for val in divisibleTest(i):\n",
    "        ans.append(str(val))\n",
    "\n",
    "res = \",\".join(ans)\n",
    "print(res)"
   ]
  },
  {
   "cell_type": "markdown",
   "id": "every-vocabulary",
   "metadata": {},
   "source": [
    "Que 2. Please write a program using generator to print the even numbers between 0 and n in comma separated form while n is input by console.\n",
    "Example:\n",
    "If the following n is given as input to the program:\n",
    "10\n",
    "Then, the output of the program should be:\n",
    "0,2,4,6,8,10\n"
   ]
  },
  {
   "cell_type": "code",
   "execution_count": 14,
   "id": "twenty-converter",
   "metadata": {},
   "outputs": [
    {
     "name": "stdout",
     "output_type": "stream",
     "text": [
      "Enter number 10\n",
      "0,2,4,6,8,10\n"
     ]
    }
   ],
   "source": [
    "def even(n):\n",
    "    if n%2 == 0:\n",
    "        yield n\n",
    "        \n",
    "ans = []        \n",
    "n = int(input(\"Enter number \"))\n",
    "for i in range(0,n+1):\n",
    "    for value in even(i):\n",
    "        ans.append(str(value))\n",
    "        \n",
    "result = \",\".join(ans)\n",
    "print(result)       "
   ]
  },
  {
   "cell_type": "markdown",
   "id": "recovered-replacement",
   "metadata": {},
   "source": [
    "Que 3. The Fibonacci Sequence is computed based on the following formula:\n",
    "f(n)=0 if n=0\n",
    "f(n)=1 if n=1\n",
    "f(n)=f(n-1)+f(n-2) if n>1\n",
    "Please write a program using list comprehension to print the Fibonacci Sequence in comma separated form with a given n input by console.\n",
    "Example:\n",
    "If the following n is given as input to the program:\n",
    "7\n",
    "Then, the output of the program should be:\n",
    "0,1,1,2,3,5,8,13\n"
   ]
  },
  {
   "cell_type": "code",
   "execution_count": 35,
   "id": "intelligent-english",
   "metadata": {},
   "outputs": [
    {
     "name": "stdout",
     "output_type": "stream",
     "text": [
      "Enter number 7\n",
      "0,1,1,2,3,5,8,13\n"
     ]
    }
   ],
   "source": [
    "def fib(n):\n",
    "    re=[0,1]  \n",
    "    [re.append(re[-2]+re[-1]) for n in range(n-1)]\n",
    "    ans = []\n",
    "    for i in re:\n",
    "        ans.append(str(i))\n",
    "    fans = \",\".join(ans)\n",
    "    return fans\n",
    "      \n",
    "\n",
    "n = int(input(\"Enter number \"))\n",
    "print(fib(n))  "
   ]
  },
  {
   "cell_type": "markdown",
   "id": "invalid-milton",
   "metadata": {},
   "source": [
    "Que 4.Assuming that we have some email addresses in the \"username@companyname.com\" format, please write program to print the user name of a given email address. Both user names and company names are composed of letters only.\n",
    "Example:\n",
    "If the following email address is given as input to the program:\n",
    "john@google.com\n",
    "Then, the output of the program should be:\n",
    "john\n"
   ]
  },
  {
   "cell_type": "code",
   "execution_count": 6,
   "id": "efficient-sociology",
   "metadata": {},
   "outputs": [
    {
     "name": "stdout",
     "output_type": "stream",
     "text": [
      "Enter emailjohn@google.com\n",
      "john\n"
     ]
    }
   ],
   "source": [
    "email = input(\"Enter email\")\n",
    "usernme = email.split(\"@\")\n",
    "print(usernme[0])"
   ]
  },
  {
   "cell_type": "markdown",
   "id": "charged-dance",
   "metadata": {},
   "source": [
    "Que 5. Define a class named Shape and its subclass Square. The Square class has an init function which takes a length as argument. Both classes have a area function which can print the area of the shape where Shape's area is 0 by default."
   ]
  },
  {
   "cell_type": "code",
   "execution_count": 19,
   "id": "falling-banana",
   "metadata": {},
   "outputs": [],
   "source": [
    "class Shape:\n",
    "    def area(self):\n",
    "        return 0\n",
    "     \n",
    "\n",
    "class Square(Shape):\n",
    "    def __init__(self,length):\n",
    "        self.length = length\n",
    "    def area(self):\n",
    "        ans = self.length* self.length\n",
    "        return ans\n",
    "     "
   ]
  },
  {
   "cell_type": "code",
   "execution_count": 22,
   "id": "northern-copper",
   "metadata": {},
   "outputs": [
    {
     "name": "stdout",
     "output_type": "stream",
     "text": [
      "100\n"
     ]
    }
   ],
   "source": [
    "s1 = Square(10)\n",
    "print(s1.area())\n"
   ]
  },
  {
   "cell_type": "code",
   "execution_count": 23,
   "id": "european-fever",
   "metadata": {},
   "outputs": [
    {
     "name": "stdout",
     "output_type": "stream",
     "text": [
      "0\n"
     ]
    }
   ],
   "source": [
    "sha1 = Shape()\n",
    "print(sha1.area())"
   ]
  },
  {
   "cell_type": "code",
   "execution_count": null,
   "id": "ordered-browser",
   "metadata": {},
   "outputs": [],
   "source": []
  }
 ],
 "metadata": {
  "kernelspec": {
   "display_name": "Python 3",
   "language": "python",
   "name": "python3"
  },
  "language_info": {
   "codemirror_mode": {
    "name": "ipython",
    "version": 3
   },
   "file_extension": ".py",
   "mimetype": "text/x-python",
   "name": "python",
   "nbconvert_exporter": "python",
   "pygments_lexer": "ipython3",
   "version": "3.7.10"
  }
 },
 "nbformat": 4,
 "nbformat_minor": 5
}

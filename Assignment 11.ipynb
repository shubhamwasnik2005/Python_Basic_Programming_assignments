{
 "cells": [
  {
   "cell_type": "markdown",
   "id": "subjective-alabama",
   "metadata": {},
   "source": [
    "                                              Assignment 11\n",
    "1.\tWrite a Python program to find words which are greater than given length k?"
   ]
  },
  {
   "cell_type": "code",
   "execution_count": 9,
   "id": "prescription-turning",
   "metadata": {},
   "outputs": [
    {
     "name": "stdout",
     "output_type": "stream",
     "text": [
      "Enter length of string :- 5\n",
      "Enter string :- Shubham\n",
      "Given Shubham is not equal to given length 5\n"
     ]
    }
   ],
   "source": [
    "# Function \n",
    "def strlen(s,l):\n",
    "    if len(s)==l:\n",
    "        return 1\n",
    "    else:\n",
    "        return 0\n",
    "    \n",
    "# Taking input    \n",
    "l = int(input(\"Enter length of string :- \"))\n",
    "s = input(\"Enter string :- \")\n",
    "\n",
    "if strlen(s,l) == 1:\n",
    "    print(\"Given {} is equal to given length {}\".format(s,l))\n",
    "else:\n",
    "    print(\"Given {} is not equal to given length {}\".format(s,l))"
   ]
  },
  {
   "cell_type": "markdown",
   "id": "clean-minority",
   "metadata": {},
   "source": [
    "2.\tWrite a Python program for removing i-th character from a string?"
   ]
  },
  {
   "cell_type": "code",
   "execution_count": 2,
   "id": "beginning-latitude",
   "metadata": {},
   "outputs": [
    {
     "name": "stdout",
     "output_type": "stream",
     "text": [
      "Enter string :-Shubham\n",
      "Enter ith character to be removed:- 2\n",
      "Shbham\n"
     ]
    }
   ],
   "source": [
    "def removeI(s,i):\n",
    "    a = s[:i]\n",
    "    b = s[(i+1):]\n",
    "    return a+b\n",
    "\n",
    "s = input(\"Enter string :-\")\n",
    "i = int(input(\"Enter ith character to be removed:- \"))\n",
    "print(removeI(s,i))"
   ]
  },
  {
   "cell_type": "markdown",
   "id": "impressed-customs",
   "metadata": {},
   "source": [
    "3.\tWrite a Python program to split and join a string?"
   ]
  },
  {
   "cell_type": "code",
   "execution_count": 16,
   "id": "advised-option",
   "metadata": {},
   "outputs": [
    {
     "name": "stdout",
     "output_type": "stream",
     "text": [
      "Enter number from where you have to split 4\n",
      "Enter string shubham\n",
      "('shub', 'ham')\n",
      "Enter string 1 :- shub\n",
      "Enter string 2 :- ham\n",
      "shubham\n"
     ]
    }
   ],
   "source": [
    "def strsplit(s,i):\n",
    "    l1 = s[:i]\n",
    "    l2 = s[i:]\n",
    "    return l1,l2\n",
    "\n",
    "def strjoin(s1,s2):\n",
    "    return s1 + s2\n",
    "\n",
    "i = int(input(\"Enter number from where you have to split \"))\n",
    "s = input(\"Enter string \")\n",
    "print(strsplit(s,i))\n",
    "\n",
    "s1 = input(\"Enter string 1 :- \")\n",
    "s2 = input(\"Enter string 2 :- \")\n",
    "print(strjoin(s1,s2))\n"
   ]
  },
  {
   "cell_type": "markdown",
   "id": "biblical-rouge",
   "metadata": {},
   "source": [
    "4.\tWrite a Python to check if a given string is binary string or not?"
   ]
  },
  {
   "cell_type": "code",
   "execution_count": 15,
   "id": "anticipated-determination",
   "metadata": {},
   "outputs": [
    {
     "name": "stdout",
     "output_type": "stream",
     "text": [
      "Enter string :- 1010\n",
      "Given string is Binary string \n"
     ]
    }
   ],
   "source": [
    "def isBinary(s):\n",
    "    b = \"01\"\n",
    "    c= True\n",
    "    for i in s:\n",
    "        if i in b:\n",
    "            continue\n",
    "        else:\n",
    "            c = False\n",
    "    return c\n",
    "\n",
    "s = input(\"Enter string :- \")\n",
    "val = isBinary(s)\n",
    "if val == True:\n",
    "    print(\"Given string is Binary string \")\n",
    "else:\n",
    "    print(\"Given string is not binary string \")\n"
   ]
  },
  {
   "cell_type": "markdown",
   "id": "representative-programmer",
   "metadata": {},
   "source": [
    "5.\tWrite a Python program to find uncommon words from two Strings?"
   ]
  },
  {
   "cell_type": "code",
   "execution_count": 11,
   "id": "female-portland",
   "metadata": {},
   "outputs": [
    {
     "name": "stdout",
     "output_type": "stream",
     "text": [
      "Enter first string :- My name is sharukh khan\n",
      "Enter second string :- My name is Salman Khan\n",
      "sharukh khan Salman Khan \n"
     ]
    }
   ],
   "source": [
    "def listToString(res):\n",
    "    ans =''\n",
    "    for j in res:\n",
    "        ans=ans+j+\" \"\n",
    "    return ans\n",
    "\n",
    "def uncommon(s1,s2):\n",
    "    l1 = s1.split(\" \")\n",
    "    l2 = s2.split(\" \")\n",
    "    res = []\n",
    "    ans =\"\"\n",
    "    for i in l1:\n",
    "        if i in l2:\n",
    "            continue\n",
    "        else:\n",
    "            res.append(i)\n",
    "    for i in l2:\n",
    "        if i in l1:\n",
    "            continue\n",
    "        else:\n",
    "            res.append(i)\n",
    "    return listToString(res)\n",
    "\n",
    "\n",
    "s1 = input(\"Enter first string :- \")\n",
    "s2 = input(\"Enter second string :- \")\n",
    "print(uncommon(s1,s2))\n"
   ]
  },
  {
   "cell_type": "markdown",
   "id": "fifth-volunteer",
   "metadata": {},
   "source": [
    "6.\tWrite a Python to find all duplicate characters in string?"
   ]
  },
  {
   "cell_type": "code",
   "execution_count": 29,
   "id": "beginning-tribute",
   "metadata": {},
   "outputs": [
    {
     "name": "stdout",
     "output_type": "stream",
     "text": [
      "Enter string -I am Sshubbham\n",
      "{'b', 'a', 'm', 'h', ' '}\n"
     ]
    }
   ],
   "source": [
    "def strduplicate_char(s):\n",
    "    d = {}\n",
    "    l=[]\n",
    "    for i in s:\n",
    "        if i in d:\n",
    "            d[i] = d[i]+1\n",
    "        else:\n",
    "            d[i] = 0\n",
    "    for j in d:\n",
    "        if d[j]==0:\n",
    "            continue\n",
    "        else:\n",
    "            l.append(j)\n",
    "    return set(l)\n",
    "\n",
    "\n",
    "s = input(\"Enter string -\")\n",
    "duplicate_char = strduplicate_char(s)\n",
    "print(duplicate_char)\n",
    "            "
   ]
  },
  {
   "cell_type": "markdown",
   "id": "visible-passing",
   "metadata": {},
   "source": [
    "7.\tWrite a Python Program to check if a string contains any special character?"
   ]
  },
  {
   "cell_type": "code",
   "execution_count": 12,
   "id": "raising-texture",
   "metadata": {},
   "outputs": [
    {
     "name": "stdout",
     "output_type": "stream",
     "text": [
      "Enter string shubham@\n",
      "String contain special character \n"
     ]
    }
   ],
   "source": [
    " def strcheck(s):\n",
    "    l = ['!','@','#','$','%','^','&','*',':',';','<','>']\n",
    "    for i in s:\n",
    "        if i in l:\n",
    "            return 1\n",
    "    return 0\n",
    "        \n",
    "s = input(\"Enter string \")\n",
    "if strcheck(s) == 1:\n",
    "    print(\"String contain special character \")\n",
    "else:\n",
    "    print(\"String do not contain special characters\")"
   ]
  },
  {
   "cell_type": "code",
   "execution_count": null,
   "id": "tight-grass",
   "metadata": {},
   "outputs": [],
   "source": []
  }
 ],
 "metadata": {
  "kernelspec": {
   "display_name": "Python 3",
   "language": "python",
   "name": "python3"
  },
  "language_info": {
   "codemirror_mode": {
    "name": "ipython",
    "version": 3
   },
   "file_extension": ".py",
   "mimetype": "text/x-python",
   "name": "python",
   "nbconvert_exporter": "python",
   "pygments_lexer": "ipython3",
   "version": "3.7.10"
  }
 },
 "nbformat": 4,
 "nbformat_minor": 5
}

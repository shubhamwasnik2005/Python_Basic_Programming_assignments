{
 "cells": [
  {
   "cell_type": "markdown",
   "id": "sonic-stopping",
   "metadata": {},
   "source": [
    "                              Assignment 22"
   ]
  },
  {
   "cell_type": "markdown",
   "id": "brutal-bench",
   "metadata": {},
   "source": [
    "Question1\n",
    "Create a function that takes three parameters where:\n",
    " x is the start of the range (inclusive).\n",
    " y is the end of the range (inclusive).\n",
    " n is the divisor to be checked against.\n",
    "Return an ordered list with numbers in the range that are divisible by the third parameter n.\n",
    "Return an empty list if there are no numbers that are divisible by n."
   ]
  },
  {
   "cell_type": "code",
   "execution_count": 5,
   "id": "selective-cancer",
   "metadata": {},
   "outputs": [],
   "source": [
    "def list_operation(x,y,n):\n",
    "    ans = []\n",
    "    for i in range(x,y+1):\n",
    "        if i%n == 0:\n",
    "            ans.append(i)\n",
    "    return ans"
   ]
  },
  {
   "cell_type": "code",
   "execution_count": 8,
   "id": "controlling-reservoir",
   "metadata": {},
   "outputs": [
    {
     "name": "stdout",
     "output_type": "stream",
     "text": [
      "[3, 6, 9]\n"
     ]
    }
   ],
   "source": [
    "print(list_operation(1,10,3))"
   ]
  },
  {
   "cell_type": "code",
   "execution_count": 10,
   "id": "substantial-brief",
   "metadata": {},
   "outputs": [
    {
     "name": "stdout",
     "output_type": "stream",
     "text": [
      "[8]\n"
     ]
    }
   ],
   "source": [
    "print(list_operation(7,9,2))"
   ]
  },
  {
   "cell_type": "code",
   "execution_count": 11,
   "id": "written-affect",
   "metadata": {},
   "outputs": [
    {
     "name": "stdout",
     "output_type": "stream",
     "text": [
      "[]\n"
     ]
    }
   ],
   "source": [
    "print(list_operation(15,20,7))"
   ]
  },
  {
   "cell_type": "markdown",
   "id": "silver-stick",
   "metadata": {},
   "source": [
    "Question2\n",
    "Create a function that takes in two lists and returns True if the second list follows the first list\n",
    "by one element, and False otherwise. In other words, determine if the second list is the first\n",
    "list shifted to the right by 1."
   ]
  },
  {
   "cell_type": "code",
   "execution_count": 3,
   "id": "billion-childhood",
   "metadata": {},
   "outputs": [],
   "source": [
    "def simon_says(l1,l2):\n",
    "    if len(l1) == 2:\n",
    "        if l1[0] == l2[1]:\n",
    "            return True\n",
    "\n",
    "        else:\n",
    "            return False\n",
    "    else:\n",
    "        if l1[len(l1)-2] == l2[len(l2)-1]:\n",
    "            return True\n",
    "        else:\n",
    "            return False\n",
    "                    \n",
    "        \n",
    "    "
   ]
  },
  {
   "cell_type": "code",
   "execution_count": 8,
   "id": "chief-charm",
   "metadata": {},
   "outputs": [
    {
     "name": "stdout",
     "output_type": "stream",
     "text": [
      "True\n"
     ]
    }
   ],
   "source": [
    "print(simon_says([1,2],[5,1]))"
   ]
  },
  {
   "cell_type": "code",
   "execution_count": 9,
   "id": "associate-waters",
   "metadata": {},
   "outputs": [
    {
     "name": "stdout",
     "output_type": "stream",
     "text": [
      "False\n"
     ]
    }
   ],
   "source": [
    "print(simon_says([1,2],[5,5]))"
   ]
  },
  {
   "cell_type": "code",
   "execution_count": 10,
   "id": "operating-religious",
   "metadata": {},
   "outputs": [
    {
     "name": "stdout",
     "output_type": "stream",
     "text": [
      "True\n"
     ]
    }
   ],
   "source": [
    "print(simon_says([1,2,3,4,5],[0,1,2,3,4]))"
   ]
  },
  {
   "cell_type": "code",
   "execution_count": 11,
   "id": "traditional-correspondence",
   "metadata": {},
   "outputs": [
    {
     "name": "stdout",
     "output_type": "stream",
     "text": [
      "False\n"
     ]
    }
   ],
   "source": [
    "print(simon_says([1,2,3,4,5],[5,5,1,2,3]))"
   ]
  },
  {
   "cell_type": "markdown",
   "id": "first-tonight",
   "metadata": {},
   "source": [
    "Question3\n",
    "A group of friends have decided to start a secret society. The name will be the first letter of\n",
    "each of their names, sorted in alphabetical order.\n",
    "Create a function that takes in a list of names and returns the name of the secret society."
   ]
  },
  {
   "cell_type": "code",
   "execution_count": 18,
   "id": "copyrighted-aviation",
   "metadata": {},
   "outputs": [],
   "source": [
    "def society_name(l):\n",
    "    ans = \"\"\n",
    "    for i in l:\n",
    "        ans = ans + i[0][0]\n",
    "    result = ''.join(sorted(ans))\n",
    "    return result"
   ]
  },
  {
   "cell_type": "code",
   "execution_count": 20,
   "id": "fossil-uncle",
   "metadata": {},
   "outputs": [
    {
     "name": "stdout",
     "output_type": "stream",
     "text": [
      "AMS\n"
     ]
    }
   ],
   "source": [
    "print(society_name([\"Adam\",\"Sarah\",\"Malcolm\"]))"
   ]
  },
  {
   "cell_type": "code",
   "execution_count": 21,
   "id": "swiss-income",
   "metadata": {},
   "outputs": [
    {
     "name": "stdout",
     "output_type": "stream",
     "text": [
      "CHLN\n"
     ]
    }
   ],
   "source": [
    "print(society_name([\"Harry\",\"Newt\",\"Luna\",\"Cho\"]))"
   ]
  },
  {
   "cell_type": "code",
   "execution_count": 22,
   "id": "chief-willow",
   "metadata": {},
   "outputs": [
    {
     "name": "stdout",
     "output_type": "stream",
     "text": [
      "CJMPRR\n"
     ]
    }
   ],
   "source": [
    "print(society_name([\"Phoebe\",\"Chandler\",\"Rachel\",\"Ross\",\"Monica\",\"Joey\"]))"
   ]
  },
  {
   "cell_type": "markdown",
   "id": "legendary-original",
   "metadata": {},
   "source": [
    "Question4\n",
    "An isogram is a word that has no duplicate letters. Create a function that takes a string and\n",
    "returns either True or False depending on whether or not it&#39;s an &quot;isogram&quot;."
   ]
  },
  {
   "cell_type": "code",
   "execution_count": 30,
   "id": "greater-senior",
   "metadata": {},
   "outputs": [],
   "source": [
    "def is_isogram(s):\n",
    "    s=s.lower()\n",
    "    d = {}\n",
    "    for i in s:\n",
    "        if i in d:\n",
    "            d[i] = d[i]+1\n",
    "        else:\n",
    "            d[i] = 0\n",
    "    if 1 in d.values():\n",
    "        return False\n",
    "    else:\n",
    "        return True"
   ]
  },
  {
   "cell_type": "code",
   "execution_count": 31,
   "id": "sought-native",
   "metadata": {},
   "outputs": [
    {
     "name": "stdout",
     "output_type": "stream",
     "text": [
      "True\n"
     ]
    }
   ],
   "source": [
    "print(is_isogram(\"Algorism\"))"
   ]
  },
  {
   "cell_type": "code",
   "execution_count": 32,
   "id": "brazilian-terry",
   "metadata": {},
   "outputs": [
    {
     "name": "stdout",
     "output_type": "stream",
     "text": [
      "False\n"
     ]
    }
   ],
   "source": [
    "print(is_isogram(\"PasSword\"))"
   ]
  },
  {
   "cell_type": "code",
   "execution_count": 33,
   "id": "associate-devices",
   "metadata": {},
   "outputs": [
    {
     "name": "stdout",
     "output_type": "stream",
     "text": [
      "False\n"
     ]
    }
   ],
   "source": [
    "print(is_isogram(\"Consecutive\"))"
   ]
  },
  {
   "cell_type": "markdown",
   "id": "statewide-terry",
   "metadata": {},
   "source": [
    "Question5\n",
    "Create a function that takes a string and returns True or False, depending on whether the\n",
    "characters are in order or not."
   ]
  },
  {
   "cell_type": "code",
   "execution_count": 34,
   "id": "finite-appraisal",
   "metadata": {},
   "outputs": [],
   "source": [
    "def is_in_order(s):\n",
    "    temp = s\n",
    "    val = \"\".join(sorted(temp))\n",
    "    if val == s:\n",
    "        return True \n",
    "    else:\n",
    "        return False\n",
    "    "
   ]
  },
  {
   "cell_type": "code",
   "execution_count": 36,
   "id": "dedicated-documentation",
   "metadata": {},
   "outputs": [
    {
     "name": "stdout",
     "output_type": "stream",
     "text": [
      "True\n"
     ]
    }
   ],
   "source": [
    "print(is_in_order(\"abc\"))"
   ]
  },
  {
   "cell_type": "code",
   "execution_count": 37,
   "id": "expired-damage",
   "metadata": {},
   "outputs": [
    {
     "name": "stdout",
     "output_type": "stream",
     "text": [
      "False\n"
     ]
    }
   ],
   "source": [
    "print(is_in_order(\"edabit\"))"
   ]
  },
  {
   "cell_type": "code",
   "execution_count": 38,
   "id": "vertical-likelihood",
   "metadata": {},
   "outputs": [
    {
     "name": "stdout",
     "output_type": "stream",
     "text": [
      "True\n"
     ]
    }
   ],
   "source": [
    "print(is_in_order(\"123\"))"
   ]
  },
  {
   "cell_type": "code",
   "execution_count": 39,
   "id": "conditional-delight",
   "metadata": {},
   "outputs": [
    {
     "name": "stdout",
     "output_type": "stream",
     "text": [
      "True\n"
     ]
    }
   ],
   "source": [
    "print(is_in_order(\"xyzz\"))"
   ]
  },
  {
   "cell_type": "code",
   "execution_count": 42,
   "id": "impressed-bristol",
   "metadata": {},
   "outputs": [
    {
     "data": {
      "text/plain": [
       "3"
      ]
     },
     "execution_count": 42,
     "metadata": {},
     "output_type": "execute_result"
    }
   ],
   "source": [
    "l = [1,2,3]\n",
    "len(l)"
   ]
  },
  {
   "cell_type": "code",
   "execution_count": null,
   "id": "sufficient-stanley",
   "metadata": {},
   "outputs": [],
   "source": []
  }
 ],
 "metadata": {
  "kernelspec": {
   "display_name": "Python 3",
   "language": "python",
   "name": "python3"
  },
  "language_info": {
   "codemirror_mode": {
    "name": "ipython",
    "version": 3
   },
   "file_extension": ".py",
   "mimetype": "text/x-python",
   "name": "python",
   "nbconvert_exporter": "python",
   "pygments_lexer": "ipython3",
   "version": "3.7.10"
  }
 },
 "nbformat": 4,
 "nbformat_minor": 5
}

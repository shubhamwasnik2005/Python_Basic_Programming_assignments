{
 "cells": [
  {
   "cell_type": "markdown",
   "id": "representative-density",
   "metadata": {},
   "source": [
    "                                              Assginment 19"
   ]
  },
  {
   "cell_type": "markdown",
   "id": "central-ocean",
   "metadata": {},
   "source": [
    "Question1\n",
    "Create a function that takes a string and returns a string in which each character is repeated\n",
    "once."
   ]
  },
  {
   "cell_type": "code",
   "execution_count": 14,
   "id": "excessive-array",
   "metadata": {},
   "outputs": [],
   "source": [
    "def double_char(s):\n",
    "    ans = \"\"\n",
    "    for i in s:\n",
    "        for j in range(0,2):\n",
    "            ans = ans + i\n",
    "    return ans"
   ]
  },
  {
   "cell_type": "code",
   "execution_count": 16,
   "id": "better-memory",
   "metadata": {},
   "outputs": [
    {
     "name": "stdout",
     "output_type": "stream",
     "text": [
      "SSttrriinngg\n"
     ]
    }
   ],
   "source": [
    "print(double_char(\"String\"))"
   ]
  },
  {
   "cell_type": "code",
   "execution_count": 19,
   "id": "alien-minnesota",
   "metadata": {},
   "outputs": [
    {
     "name": "stdout",
     "output_type": "stream",
     "text": [
      "HHeelllloo  WWoorrlldd!!\n"
     ]
    }
   ],
   "source": [
    "print(double_char(\"Hello World!\"))"
   ]
  },
  {
   "cell_type": "code",
   "execution_count": 21,
   "id": "strange-authorization",
   "metadata": {},
   "outputs": [
    {
     "name": "stdout",
     "output_type": "stream",
     "text": [
      "11223344!!__  \n"
     ]
    }
   ],
   "source": [
    "print(double_char(\"1234!_ \"))"
   ]
  },
  {
   "cell_type": "markdown",
   "id": "color-story",
   "metadata": {},
   "source": [
    "Question2\n",
    "Create a function that reverses a boolean value and returns the string &quot;boolean expected&quot;\n",
    "if another variable type is given."
   ]
  },
  {
   "cell_type": "code",
   "execution_count": 8,
   "id": "blocked-liberty",
   "metadata": {},
   "outputs": [],
   "source": [
    "def reverse(a):\n",
    "    if type(a) == bool and a == False:\n",
    "        return True\n",
    "    elif type(a) == bool and a == True:\n",
    "        return False\n",
    "    else:\n",
    "        return \"boolean expected\"\n",
    "        "
   ]
  },
  {
   "cell_type": "code",
   "execution_count": 9,
   "id": "global-platinum",
   "metadata": {},
   "outputs": [
    {
     "name": "stdout",
     "output_type": "stream",
     "text": [
      "False\n"
     ]
    }
   ],
   "source": [
    "print(reverse(True))"
   ]
  },
  {
   "cell_type": "code",
   "execution_count": 10,
   "id": "swedish-letters",
   "metadata": {},
   "outputs": [
    {
     "name": "stdout",
     "output_type": "stream",
     "text": [
      "True\n"
     ]
    }
   ],
   "source": [
    "print(reverse(False))"
   ]
  },
  {
   "cell_type": "code",
   "execution_count": 11,
   "id": "copyrighted-technical",
   "metadata": {},
   "outputs": [
    {
     "name": "stdout",
     "output_type": "stream",
     "text": [
      "boolean expected\n"
     ]
    }
   ],
   "source": [
    "print(reverse(0))"
   ]
  },
  {
   "cell_type": "code",
   "execution_count": 12,
   "id": "brutal-individual",
   "metadata": {},
   "outputs": [
    {
     "name": "stdout",
     "output_type": "stream",
     "text": [
      "boolean expected\n"
     ]
    }
   ],
   "source": [
    "print(reverse(None))"
   ]
  },
  {
   "cell_type": "markdown",
   "id": "athletic-daniel",
   "metadata": {},
   "source": [
    "Question3\n",
    "Create a function that returns the thickness (in meters) of a piece of paper after folding it n\n",
    "number of times. The paper starts off with a thickness of 0.5mm."
   ]
  },
  {
   "cell_type": "code",
   "execution_count": 33,
   "id": "understanding-specialist",
   "metadata": {},
   "outputs": [],
   "source": [
    "def num_layers(n):\n",
    "    import math\n",
    "    n = str(math.pow(2,n-1)/1000)\n",
    "    return n+'m'"
   ]
  },
  {
   "cell_type": "code",
   "execution_count": 35,
   "id": "broken-nation",
   "metadata": {},
   "outputs": [
    {
     "name": "stdout",
     "output_type": "stream",
     "text": [
      "0.001m\n"
     ]
    }
   ],
   "source": [
    "print(num_layers(1))"
   ]
  },
  {
   "cell_type": "code",
   "execution_count": 36,
   "id": "minor-abuse",
   "metadata": {},
   "outputs": [
    {
     "name": "stdout",
     "output_type": "stream",
     "text": [
      "0.008m\n"
     ]
    }
   ],
   "source": [
    "print(num_layers(4))"
   ]
  },
  {
   "cell_type": "code",
   "execution_count": 37,
   "id": "expected-bobby",
   "metadata": {},
   "outputs": [
    {
     "name": "stdout",
     "output_type": "stream",
     "text": [
      "1048.576m\n"
     ]
    }
   ],
   "source": [
    "print(num_layers(21))"
   ]
  },
  {
   "cell_type": "markdown",
   "id": "domestic-brown",
   "metadata": {},
   "source": [
    "Question4\n",
    "\n",
    "Create a function that takes a single string as argument and returns an ordered list containing\n",
    "the indices of all capital letters in the string."
   ]
  },
  {
   "cell_type": "code",
   "execution_count": 42,
   "id": "changing-navigator",
   "metadata": {},
   "outputs": [],
   "source": [
    "def index_of_caps(s):\n",
    "    ans = []\n",
    "    for i in range(len(s)):\n",
    "        if ord(s[i])>=65 and ord(s[i])<=90:\n",
    "            ans.append(i)\n",
    "    return ans"
   ]
  },
  {
   "cell_type": "code",
   "execution_count": 45,
   "id": "analyzed-valley",
   "metadata": {},
   "outputs": [
    {
     "name": "stdout",
     "output_type": "stream",
     "text": [
      "[1, 3, 5]\n"
     ]
    }
   ],
   "source": [
    "print(index_of_caps(\"eDaBiT\"))"
   ]
  },
  {
   "cell_type": "code",
   "execution_count": 46,
   "id": "adjustable-brighton",
   "metadata": {},
   "outputs": [
    {
     "name": "stdout",
     "output_type": "stream",
     "text": [
      "[1, 3, 4, 6]\n"
     ]
    }
   ],
   "source": [
    "print(index_of_caps(\"eQuINoX\"))"
   ]
  },
  {
   "cell_type": "code",
   "execution_count": 47,
   "id": "square-payroll",
   "metadata": {},
   "outputs": [
    {
     "name": "stdout",
     "output_type": "stream",
     "text": [
      "[]\n"
     ]
    }
   ],
   "source": [
    "print(index_of_caps(\"determine\"))"
   ]
  },
  {
   "cell_type": "code",
   "execution_count": 50,
   "id": "legal-general",
   "metadata": {},
   "outputs": [
    {
     "name": "stdout",
     "output_type": "stream",
     "text": [
      "[0, 1, 2, 3, 4, 5]\n"
     ]
    }
   ],
   "source": [
    "print(index_of_caps(\"STRIKE\"))"
   ]
  },
  {
   "cell_type": "code",
   "execution_count": 51,
   "id": "coated-system",
   "metadata": {},
   "outputs": [
    {
     "name": "stdout",
     "output_type": "stream",
     "text": [
      "[1]\n"
     ]
    }
   ],
   "source": [
    "print(index_of_caps(\"sUn\"))"
   ]
  },
  {
   "cell_type": "markdown",
   "id": "terminal-victoria",
   "metadata": {},
   "source": [
    "Question5\n",
    "Using list comprehensions, create a function that finds all even numbers from 1 to the given\n",
    "number."
   ]
  },
  {
   "cell_type": "code",
   "execution_count": 10,
   "id": "optimum-division",
   "metadata": {},
   "outputs": [],
   "source": [
    "def find_even_nums(n):\n",
    "    return [ans for ans in range(1,n+1) if ans%2==0]"
   ]
  },
  {
   "cell_type": "code",
   "execution_count": 11,
   "id": "finite-buffalo",
   "metadata": {},
   "outputs": [
    {
     "name": "stdout",
     "output_type": "stream",
     "text": [
      "[2, 4, 6, 8]\n"
     ]
    }
   ],
   "source": [
    "print(find_even_nums(8))"
   ]
  },
  {
   "cell_type": "code",
   "execution_count": 12,
   "id": "seventh-contact",
   "metadata": {},
   "outputs": [
    {
     "name": "stdout",
     "output_type": "stream",
     "text": [
      "[2, 4]\n"
     ]
    }
   ],
   "source": [
    "print(find_even_nums(4))"
   ]
  },
  {
   "cell_type": "code",
   "execution_count": 13,
   "id": "received-employer",
   "metadata": {},
   "outputs": [
    {
     "name": "stdout",
     "output_type": "stream",
     "text": [
      "[2]\n"
     ]
    }
   ],
   "source": [
    "print(find_even_nums(2))"
   ]
  },
  {
   "cell_type": "code",
   "execution_count": null,
   "id": "bacterial-incident",
   "metadata": {},
   "outputs": [],
   "source": []
  }
 ],
 "metadata": {
  "kernelspec": {
   "display_name": "Python 3",
   "language": "python",
   "name": "python3"
  },
  "language_info": {
   "codemirror_mode": {
    "name": "ipython",
    "version": 3
   },
   "file_extension": ".py",
   "mimetype": "text/x-python",
   "name": "python",
   "nbconvert_exporter": "python",
   "pygments_lexer": "ipython3",
   "version": "3.7.10"
  }
 },
 "nbformat": 4,
 "nbformat_minor": 5
}

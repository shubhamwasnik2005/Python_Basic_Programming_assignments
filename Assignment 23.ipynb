{
 "cells": [
  {
   "cell_type": "markdown",
   "id": "broken-supervisor",
   "metadata": {},
   "source": [
    "                                                Assignment 23"
   ]
  },
  {
   "cell_type": "markdown",
   "id": "satellite-education",
   "metadata": {},
   "source": [
    "Question 1\n",
    "Create a function that takes a number as an argument and returns True or False depending\n",
    "on whether the number is symmetrical or not. A number is symmetrical when it is the same as\n",
    "its reverse."
   ]
  },
  {
   "cell_type": "code",
   "execution_count": 71,
   "id": "extreme-lodge",
   "metadata": {},
   "outputs": [],
   "source": [
    "def is_symmetrical(n):\n",
    "    l1 =[]\n",
    "    l2=[]\n",
    "    while n!=0:\n",
    "        l1.append(n%10)\n",
    "        n = n//10\n",
    "    l2 = l1\n",
    "    if l1 == l2[::-1]:\n",
    "        return True\n",
    "    else:\n",
    "        return False"
   ]
  },
  {
   "cell_type": "code",
   "execution_count": 73,
   "id": "uniform-empty",
   "metadata": {},
   "outputs": [
    {
     "name": "stdout",
     "output_type": "stream",
     "text": [
      "True\n"
     ]
    }
   ],
   "source": [
    "print(is_symmetrical(7227))"
   ]
  },
  {
   "cell_type": "code",
   "execution_count": 74,
   "id": "naval-visitor",
   "metadata": {},
   "outputs": [
    {
     "name": "stdout",
     "output_type": "stream",
     "text": [
      "False\n"
     ]
    }
   ],
   "source": [
    "print(is_symmetrical(12567))"
   ]
  },
  {
   "cell_type": "code",
   "execution_count": 75,
   "id": "korean-reception",
   "metadata": {},
   "outputs": [
    {
     "name": "stdout",
     "output_type": "stream",
     "text": [
      "True\n"
     ]
    }
   ],
   "source": [
    "print(is_symmetrical(44444444))"
   ]
  },
  {
   "cell_type": "code",
   "execution_count": 76,
   "id": "constitutional-storm",
   "metadata": {},
   "outputs": [
    {
     "name": "stdout",
     "output_type": "stream",
     "text": [
      "False\n"
     ]
    }
   ],
   "source": [
    "print(is_symmetrical(9939))"
   ]
  },
  {
   "cell_type": "code",
   "execution_count": 77,
   "id": "satisfactory-atlantic",
   "metadata": {},
   "outputs": [
    {
     "name": "stdout",
     "output_type": "stream",
     "text": [
      "True\n"
     ]
    }
   ],
   "source": [
    "print(is_symmetrical(1112111))"
   ]
  },
  {
   "cell_type": "markdown",
   "id": "working-clearance",
   "metadata": {},
   "source": [
    "Question 2\n",
    "Given a string of numbers separated by a comma and space, return the product of the\n",
    "numbers."
   ]
  },
  {
   "cell_type": "code",
   "execution_count": 64,
   "id": "beneficial-acceptance",
   "metadata": {},
   "outputs": [],
   "source": [
    "def multiply_nums(s):\n",
    "    ans = s.split(\", \")\n",
    "    prod = 1\n",
    "    for i in ans:\n",
    "        prod = prod * int(i)\n",
    "    return prod\n",
    "    "
   ]
  },
  {
   "cell_type": "code",
   "execution_count": 66,
   "id": "opponent-gibson",
   "metadata": {},
   "outputs": [
    {
     "name": "stdout",
     "output_type": "stream",
     "text": [
      "6\n"
     ]
    }
   ],
   "source": [
    "print(multiply_nums(\"2, 3\"))"
   ]
  },
  {
   "cell_type": "code",
   "execution_count": 67,
   "id": "commercial-rogers",
   "metadata": {},
   "outputs": [
    {
     "name": "stdout",
     "output_type": "stream",
     "text": [
      "24\n"
     ]
    }
   ],
   "source": [
    "print(multiply_nums(\"1, 2, 3, 4\"))"
   ]
  },
  {
   "cell_type": "code",
   "execution_count": 68,
   "id": "departmental-turning",
   "metadata": {},
   "outputs": [
    {
     "name": "stdout",
     "output_type": "stream",
     "text": [
      "0\n"
     ]
    }
   ],
   "source": [
    "print(multiply_nums(\"54, 75, 453, 0\"))"
   ]
  },
  {
   "cell_type": "code",
   "execution_count": 70,
   "id": "necessary-miracle",
   "metadata": {},
   "outputs": [
    {
     "name": "stdout",
     "output_type": "stream",
     "text": [
      "-20\n"
     ]
    }
   ],
   "source": [
    "print(multiply_nums(\"10, -2\"))"
   ]
  },
  {
   "cell_type": "markdown",
   "id": "sudden-circuit",
   "metadata": {},
   "source": [
    "Question 3\n",
    "Create a function that squares every digit of a number."
   ]
  },
  {
   "cell_type": "code",
   "execution_count": 55,
   "id": "juvenile-reply",
   "metadata": {},
   "outputs": [],
   "source": [
    "def square_digits(n):\n",
    "    ans = []\n",
    "    while n!=0:\n",
    "        ans.append((n%10)**2)\n",
    "        n = n//10\n",
    "    ans = ans[::-1]\n",
    "    res = [str(i) for i in ans]\n",
    "    res1 = int(\"\".join(res))\n",
    "    return res1\n",
    "        "
   ]
  },
  {
   "cell_type": "code",
   "execution_count": 56,
   "id": "northern-arkansas",
   "metadata": {},
   "outputs": [
    {
     "name": "stdout",
     "output_type": "stream",
     "text": [
      "811181\n"
     ]
    }
   ],
   "source": [
    "print(square_digits(9119))"
   ]
  },
  {
   "cell_type": "code",
   "execution_count": 57,
   "id": "hourly-treasury",
   "metadata": {},
   "outputs": [
    {
     "name": "stdout",
     "output_type": "stream",
     "text": [
      "416649\n"
     ]
    }
   ],
   "source": [
    "print(square_digits(2483))"
   ]
  },
  {
   "cell_type": "code",
   "execution_count": 58,
   "id": "british-conspiracy",
   "metadata": {},
   "outputs": [
    {
     "name": "stdout",
     "output_type": "stream",
     "text": [
      "9414\n"
     ]
    }
   ],
   "source": [
    "print(square_digits(3212))"
   ]
  },
  {
   "cell_type": "markdown",
   "id": "constant-madness",
   "metadata": {},
   "source": [
    "Question 4\n",
    "Create a function that sorts a list and removes all duplicate items from it."
   ]
  },
  {
   "cell_type": "code",
   "execution_count": 28,
   "id": "fatty-montreal",
   "metadata": {},
   "outputs": [],
   "source": [
    "def setify(l):\n",
    "    t =list(set(l))\n",
    "    ans = t.sort()\n",
    "    return t"
   ]
  },
  {
   "cell_type": "code",
   "execution_count": 30,
   "id": "injured-cigarette",
   "metadata": {},
   "outputs": [
    {
     "name": "stdout",
     "output_type": "stream",
     "text": [
      "[1, 3, 5]\n"
     ]
    }
   ],
   "source": [
    "print(setify([1,3,3,5,5]))"
   ]
  },
  {
   "cell_type": "code",
   "execution_count": 31,
   "id": "approximate-tongue",
   "metadata": {},
   "outputs": [
    {
     "name": "stdout",
     "output_type": "stream",
     "text": [
      "[4]\n"
     ]
    }
   ],
   "source": [
    "print(setify([4,4,4,4]))"
   ]
  },
  {
   "cell_type": "code",
   "execution_count": 32,
   "id": "atlantic-apple",
   "metadata": {},
   "outputs": [
    {
     "name": "stdout",
     "output_type": "stream",
     "text": [
      "[5, 7, 8, 9, 10, 15]\n"
     ]
    }
   ],
   "source": [
    "print(setify([5,7,8,9,10,15]))"
   ]
  },
  {
   "cell_type": "code",
   "execution_count": 33,
   "id": "pharmaceutical-london",
   "metadata": {},
   "outputs": [
    {
     "name": "stdout",
     "output_type": "stream",
     "text": [
      "[1, 2, 3]\n"
     ]
    }
   ],
   "source": [
    "print(setify([3,3,3,2,1]))"
   ]
  },
  {
   "cell_type": "markdown",
   "id": "crude-arabic",
   "metadata": {},
   "source": [
    "Question 5\n",
    "Create a function that returns the mean of all digits."
   ]
  },
  {
   "cell_type": "code",
   "execution_count": 13,
   "id": "spare-burns",
   "metadata": {},
   "outputs": [],
   "source": [
    "def mean(n):\n",
    "    sumi = 0\n",
    "    count = 0\n",
    "    while n!=0:\n",
    "        sumi = sumi + (n%10)\n",
    "        n = n//10\n",
    "        count = count+1\n",
    "        \n",
    "    return int(sumi/count)\n",
    "        \n",
    "    \n",
    "        "
   ]
  },
  {
   "cell_type": "code",
   "execution_count": 15,
   "id": "suffering-store",
   "metadata": {},
   "outputs": [
    {
     "name": "stdout",
     "output_type": "stream",
     "text": [
      "3\n"
     ]
    }
   ],
   "source": [
    "print(mean(42))"
   ]
  },
  {
   "cell_type": "code",
   "execution_count": 16,
   "id": "english-ticket",
   "metadata": {},
   "outputs": [
    {
     "name": "stdout",
     "output_type": "stream",
     "text": [
      "3\n"
     ]
    }
   ],
   "source": [
    "print(mean(12345))"
   ]
  },
  {
   "cell_type": "code",
   "execution_count": 17,
   "id": "early-evaluation",
   "metadata": {},
   "outputs": [
    {
     "name": "stdout",
     "output_type": "stream",
     "text": [
      "6\n"
     ]
    }
   ],
   "source": [
    "print(mean(666))"
   ]
  },
  {
   "cell_type": "code",
   "execution_count": null,
   "id": "interracial-somalia",
   "metadata": {},
   "outputs": [],
   "source": [
    " "
   ]
  },
  {
   "cell_type": "code",
   "execution_count": null,
   "id": "royal-infrared",
   "metadata": {},
   "outputs": [],
   "source": []
  }
 ],
 "metadata": {
  "kernelspec": {
   "display_name": "Python 3",
   "language": "python",
   "name": "python3"
  },
  "language_info": {
   "codemirror_mode": {
    "name": "ipython",
    "version": 3
   },
   "file_extension": ".py",
   "mimetype": "text/x-python",
   "name": "python",
   "nbconvert_exporter": "python",
   "pygments_lexer": "ipython3",
   "version": "3.7.10"
  }
 },
 "nbformat": 4,
 "nbformat_minor": 5
}

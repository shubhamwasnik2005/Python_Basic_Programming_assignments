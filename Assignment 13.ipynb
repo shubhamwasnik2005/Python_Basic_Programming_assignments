{
 "cells": [
  {
   "cell_type": "markdown",
   "id": "first-composer",
   "metadata": {},
   "source": [
    "                                                Assignment 13 "
   ]
  },
  {
   "cell_type": "markdown",
   "id": "twenty-armor",
   "metadata": {},
   "source": [
    "Que 1. Write a program that calculates and prints the value according to the given formula:\n",
    "\n",
    "Q = Square root of [(2 * C * D)/H]\n",
    "\n",
    "Following are the fixed values of C and H:\n",
    "\n",
    "C is 50. H is 30.\n",
    "\n",
    "D is the variable whose values should be input to your program in a comma-separated sequence.\n",
    "\n",
    "Example\n",
    "\n",
    "Let us assume the following comma separated input sequence is given to the program:\n",
    "\n",
    "100,150,180\n",
    "\n",
    "The output of the program should be:\n",
    "\n",
    "18,22,24\n",
    "\n"
   ]
  },
  {
   "cell_type": "code",
   "execution_count": 11,
   "id": "about-startup",
   "metadata": {},
   "outputs": [
    {
     "name": "stdout",
     "output_type": "stream",
     "text": [
      "Enter input:- 100,150,180\n",
      "18,22,24\n"
     ]
    }
   ],
   "source": [
    "def formula(n):\n",
    "    from math import sqrt,trunc\n",
    "    num = n.split(\",\")\n",
    "    C=50\n",
    "    H=30\n",
    "    ans = []\n",
    "    for i in num:\n",
    "        Q = sqrt(2*C*float(i)/H)\n",
    "        ans.append(str(trunc(Q)))\n",
    "    \n",
    "    result = \",\".join(ans)\n",
    "    return result\n",
    "    \n",
    "\n",
    "\n",
    "n = input(\"Enter input:- \")\n",
    "print(formula(n))\n"
   ]
  },
  {
   "cell_type": "markdown",
   "id": "concrete-region",
   "metadata": {},
   "source": [
    "Que 2. Write a program which takes 2 digits, X,Y as input and generates a 2-dimensional array. The element value in the i-th row and j-th column of the array should be i*j.\n",
    "\n",
    "Note: i=0,1.., X-1; j=0,1,¡¬Y-1.\n",
    "\n",
    "Example\n",
    "\n",
    "Suppose the following inputs are given to the program:\n",
    "\n",
    "3,5\n",
    "\n",
    "Then, the output of the program should be:\n",
    "\n",
    "[[0, 0, 0, 0, 0], [0, 1, 2, 3, 4], [0, 2, 4, 6, 8]] \n"
   ]
  },
  {
   "cell_type": "code",
   "execution_count": 14,
   "id": "industrial-reverse",
   "metadata": {},
   "outputs": [
    {
     "name": "stdout",
     "output_type": "stream",
     "text": [
      "Enter number of rows:- 3\n",
      "Enter number of columns:- 5\n",
      "[[0, 0, 0, 0, 0], [0, 1, 2, 3, 4], [0, 2, 4, 6, 8]]\n"
     ]
    }
   ],
   "source": [
    "def twod_array(i,j):\n",
    "    ans = []\n",
    "    for a in range(i):\n",
    "        l=[]\n",
    "        for b in range(j):\n",
    "            temp = a*b\n",
    "            l.append(temp)\n",
    "        ans.append(l)\n",
    "    return ans\n",
    "    \n",
    "\n",
    "\n",
    "i = int(input(\"Enter number of rows:- \"))\n",
    "j = int(input(\"Enter number of columns:- \"))\n",
    "\n",
    "print(twod_array(i,j))"
   ]
  },
  {
   "cell_type": "markdown",
   "id": "basic-amazon",
   "metadata": {},
   "source": [
    "Que 3.\n",
    "Write a program that accepts a comma separated sequence of words as input and prints the words in a comma-separated sequence after sorting them alphabetically.\n",
    "\n",
    "Suppose the following input is supplied to the program:\n",
    "\n",
    "without,hello,bag,world\n",
    "\n",
    "Then, the output should be:\n",
    "\n",
    "bag,hello,without,world\n"
   ]
  },
  {
   "cell_type": "code",
   "execution_count": 18,
   "id": "virtual-motorcycle",
   "metadata": {},
   "outputs": [
    {
     "name": "stdout",
     "output_type": "stream",
     "text": [
      "Enter values:- without,hello,bag,world\n",
      "bag,hello,without,world\n"
     ]
    }
   ],
   "source": [
    "def sortedString(n):\n",
    "    nn = n.split(\",\")\n",
    "    nn = sorted(nn)\n",
    "    return(','.join(nn))\n",
    "\n",
    "n = input(\"Enter values:- \")\n",
    "print(sortedString(n))\n",
    "    \n",
    "\n"
   ]
  },
  {
   "cell_type": "markdown",
   "id": "handy-happiness",
   "metadata": {},
   "source": [
    "Que 4. Write a program that accepts a sequence of whitespace separated words as input and prints the words after removing all duplicate words and sorting them alphanumerically.\n",
    "\n",
    "Suppose the following input is supplied to the program:\n",
    "\n",
    "hello world and practice makes perfect and hello world again\n",
    "\n",
    "Then, the output should be:\n",
    "\n",
    "again and hello makes perfect practice world\n"
   ]
  },
  {
   "cell_type": "code",
   "execution_count": 16,
   "id": "arranged-extent",
   "metadata": {},
   "outputs": [
    {
     "name": "stdout",
     "output_type": "stream",
     "text": [
      "Enter string:- hello world and practice makes perfect and hello world again\n",
      "again and hello makes perfect practice world\n"
     ]
    }
   ],
   "source": [
    "def removeDuplicateSorting(n):\n",
    "    nn = n.split(\" \")\n",
    "    ans = []\n",
    "    d = {}\n",
    "    for i in nn:\n",
    "        if i in d:\n",
    "            d[i] = d[i] + 1\n",
    "        else:\n",
    "            d[i]=1\n",
    "\n",
    "    for j in d:\n",
    "        ans.append(j)\n",
    "\n",
    "    ans = sorted(ans)\n",
    "    return (' '.join(ans))\n",
    "\n",
    "n = input(\"Enter string:- \")\n",
    " \n",
    "a = removeDuplicateSorting(n)\n",
    "print(a)\n"
   ]
  },
  {
   "cell_type": "markdown",
   "id": "adverse-nicaragua",
   "metadata": {},
   "source": [
    "Que 5. Write a program that accepts a sentence and calculate the number of letters and digits.\n",
    "\n",
    "Suppose the following input is supplied to the program:\n",
    "\n",
    "hello world! 123\n",
    "\n",
    "Then, the output should be:\n",
    "\n",
    "LETTERS 10\n",
    "\n",
    "DIGITS 3\n"
   ]
  },
  {
   "cell_type": "code",
   "execution_count": 31,
   "id": "false-raise",
   "metadata": {},
   "outputs": [
    {
     "name": "stdout",
     "output_type": "stream",
     "text": [
      "Enter string:- hello world! 123\n",
      "LETTERS 10 \n",
      "DIGITS 3 \n"
     ]
    }
   ],
   "source": [
    "def counter(n):\n",
    "    letter = 0\n",
    "    digit = 0\n",
    "    for i in n:\n",
    "        if ord(i)>=65 and ord(i)<=90:\n",
    "            letter = letter + 1\n",
    "        elif ord(i)>=97 and ord(i)<=122:\n",
    "            letter = letter + 1\n",
    "        elif ord(i)>=48 and ord(i)<=57:\n",
    "            digit = digit + 1\n",
    "    return letter,digit\n",
    "    \n",
    "\n",
    "n = input(\"Enter string:- \")\n",
    "letter,digit = counter(n)    \n",
    "print(\"LETTERS {} \".format(letter))\n",
    "print(\"DIGITS {} \".format(digit))"
   ]
  },
  {
   "cell_type": "markdown",
   "id": "union-convenience",
   "metadata": {},
   "source": [
    "Que 6. A website requires the users to input username and password to register. Write a program to check the validity of password input by users.\n",
    "\n",
    "Following are the criteria for checking the password:\n",
    "\n",
    "1. At least 1 letter between [a-z]\n",
    "\n",
    "2. At least 1 number between [0-9]\n",
    "\n",
    "1. At least 1 letter between [A-Z]\n",
    "\n",
    "3. At least 1 character from [$#@]\n",
    "\n",
    "4. Minimum length of transaction password: 6\n",
    "\n",
    "5. Maximum length of transaction password: 12\n",
    "\n",
    "Your program should accept a sequence of comma separated passwords and will check them according to the above criteria. Passwords that match the criteria are to be printed, each separated by a comma.\n",
    "\n",
    "Example\n",
    "\n",
    "If the following passwords are given as input to the program:\n",
    "\n",
    "ABd1234@1,a F1#,2w3E*,2We3345\n",
    "\n",
    "Then, the output of the program should be:\n",
    "\n",
    "ABd1234@1\n"
   ]
  },
  {
   "cell_type": "code",
   "execution_count": 30,
   "id": "capital-yacht",
   "metadata": {},
   "outputs": [
    {
     "name": "stdout",
     "output_type": "stream",
     "text": [
      "Enter passwords:- ABd1234@1,a F1#,2w3E*,2We3345\n",
      "Correct password is ABd1234@1 \n",
      "\n"
     ]
    }
   ],
   "source": [
    "def password_check(nn):\n",
    "    a = nn.split(\",\")\n",
    "    ans = []\n",
    "    for n in a:\n",
    "        \n",
    "        check = 0\n",
    "        capital = 0\n",
    "        small = 0\n",
    "        digit = 0\n",
    "        special = 0\n",
    "        if len(n)>=6 and len(n)<=12:\n",
    "            for i in n:\n",
    "                if ord(i)>=65 and ord(i)<=90:\n",
    "                    capital = capital + 1\n",
    "                elif ord(i)>=97 and ord(i)<=122:\n",
    "                    small = small +1 \n",
    "                elif ord(i)>=48 and ord(i)<=57:\n",
    "                    digit = digit + 1\n",
    "                else:\n",
    "                    special = special + 1\n",
    "        if capital >= 1 and small >=1 and digit>=1 and special>=1:\n",
    "            check = 1\n",
    "\n",
    "        if check ==1:\n",
    "            ans.append(n)\n",
    "           \n",
    "    return(','.join(ans))\n",
    "            \n",
    "            \n",
    "    \n",
    "\n",
    "n = input(\"Enter passwords:- \")\n",
    "ans = password_check(n)\n",
    "print(\"Correct password is {} \\n\".format(ans))\n"
   ]
  },
  {
   "cell_type": "code",
   "execution_count": null,
   "id": "returning-scottish",
   "metadata": {},
   "outputs": [],
   "source": []
  },
  {
   "cell_type": "code",
   "execution_count": null,
   "id": "cooperative-phrase",
   "metadata": {},
   "outputs": [],
   "source": []
  }
 ],
 "metadata": {
  "kernelspec": {
   "display_name": "Python 3",
   "language": "python",
   "name": "python3"
  },
  "language_info": {
   "codemirror_mode": {
    "name": "ipython",
    "version": 3
   },
   "file_extension": ".py",
   "mimetype": "text/x-python",
   "name": "python",
   "nbconvert_exporter": "python",
   "pygments_lexer": "ipython3",
   "version": "3.7.10"
  }
 },
 "nbformat": 4,
 "nbformat_minor": 5
}

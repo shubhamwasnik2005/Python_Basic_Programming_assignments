{
 "cells": [
  {
   "cell_type": "markdown",
   "id": "spare-belize",
   "metadata": {},
   "source": [
    "                                                    Assignment 2\n",
    "1) Write a Python program to generate a random number?"
   ]
  },
  {
   "cell_type": "code",
   "execution_count": 1,
   "id": "important-economy",
   "metadata": {},
   "outputs": [
    {
     "name": "stdout",
     "output_type": "stream",
     "text": [
      "0.626823501621632\n"
     ]
    }
   ],
   "source": [
    "import random\n",
    "n = random.random()\n",
    "print(n)"
   ]
  },
  {
   "cell_type": "markdown",
   "id": "temporal-japan",
   "metadata": {},
   "source": [
    "2) Write a Python program to convert Celsius to Fahrenheit?"
   ]
  },
  {
   "cell_type": "code",
   "execution_count": 5,
   "id": "civil-state",
   "metadata": {},
   "outputs": [
    {
     "name": "stdout",
     "output_type": "stream",
     "text": [
      "Enter temperature in degree celsius50\n",
      "Temperatue in Fahrenheit is 122.0\n"
     ]
    }
   ],
   "source": [
    "temp = float(input(\"Enter temperature in degree celsius\"))\n",
    "temp_farien = (temp * (9/5)) + 32\n",
    "print(\"Temperatue in Fahrenheit is {}\".format(temp_farien))"
   ]
  },
  {
   "cell_type": "markdown",
   "id": "structural-protein",
   "metadata": {},
   "source": [
    "3) Write a Python program to display calendar?"
   ]
  },
  {
   "cell_type": "code",
   "execution_count": 9,
   "id": "understanding-certificate",
   "metadata": {},
   "outputs": [
    {
     "name": "stdout",
     "output_type": "stream",
     "text": [
      "Enter year: 2022\n",
      "Enter month: 05\n",
      "      May 2022\n",
      "Mo Tu We Th Fr Sa Su\n",
      "                   1\n",
      " 2  3  4  5  6  7  8\n",
      " 9 10 11 12 13 14 15\n",
      "16 17 18 19 20 21 22\n",
      "23 24 25 26 27 28 29\n",
      "30 31\n",
      "\n"
     ]
    }
   ],
   "source": [
    "import calendar\n",
    "\n",
    " \n",
    "yy = int(input(\"Enter year: \"))\n",
    "mm = int(input(\"Enter month: \"))\n",
    "\n",
    "print(calendar.month(yy, mm))"
   ]
  },
  {
   "cell_type": "markdown",
   "id": "scientific-booth",
   "metadata": {},
   "source": [
    "4) Write a Python program to solve quadratic equation?"
   ]
  },
  {
   "cell_type": "code",
   "execution_count": 3,
   "id": "median-default",
   "metadata": {},
   "outputs": [
    {
     "name": "stdout",
     "output_type": "stream",
     "text": [
      "Enter coefficient of quadratic equation a x^2 + b x + c = 0 \n",
      "Enter coefficient of a 2\n",
      "Enter coefficient of b -5\n",
      "Enter coefficient of c 3\n",
      "Roots of equation is (1.5+0j) and (1+0j)\n"
     ]
    }
   ],
   "source": [
    "import math\n",
    "print(\"Enter coefficient of quadratic equation a x^2 + b x + c = 0 \")\n",
    "a = int(input(\"Enter coefficient of a \"))\n",
    "b = int(input(\"Enter coefficient of b \"))\n",
    "c = int(input(\"Enter coefficient of c \"))\n",
    "\n",
    "r1 = complex(-b + math.sqrt(b**2 - (4*a*c)))/(2*a)\n",
    "r2 = complex(-b - math.sqrt(b**2 - (4*a*c)))/(2*a)\n",
    "\n",
    "print(\"Roots of equation is {} and {}\".format(r1,r2))"
   ]
  },
  {
   "cell_type": "markdown",
   "id": "funded-award",
   "metadata": {},
   "source": [
    "5) Write a Python program to swap two variables without temp variable?"
   ]
  },
  {
   "cell_type": "code",
   "execution_count": 7,
   "id": "stylish-journey",
   "metadata": {},
   "outputs": [
    {
     "name": "stdout",
     "output_type": "stream",
     "text": [
      "Enter first number a = 6\n",
      "Enter second number b = 5\n",
      "Numbers after swaping is a = 5 and b = 6\n"
     ]
    }
   ],
   "source": [
    "a = int(input(\"Enter first number a = \"))\n",
    "b = int(input(\"Enter second number b = \"))\n",
    "a  = a+b\n",
    "b = a-b\n",
    "a = a-b\n",
    "\n",
    "print(\"Numbers after swaping is a = {} and b = {}\".format(a,b))"
   ]
  },
  {
   "cell_type": "code",
   "execution_count": null,
   "id": "developmental-agency",
   "metadata": {},
   "outputs": [],
   "source": []
  },
  {
   "cell_type": "code",
   "execution_count": null,
   "id": "automotive-substance",
   "metadata": {},
   "outputs": [],
   "source": []
  }
 ],
 "metadata": {
  "kernelspec": {
   "display_name": "Python 3",
   "language": "python",
   "name": "python3"
  },
  "language_info": {
   "codemirror_mode": {
    "name": "ipython",
    "version": 3
   },
   "file_extension": ".py",
   "mimetype": "text/x-python",
   "name": "python",
   "nbconvert_exporter": "python",
   "pygments_lexer": "ipython3",
   "version": "3.7.10"
  }
 },
 "nbformat": 4,
 "nbformat_minor": 5
}

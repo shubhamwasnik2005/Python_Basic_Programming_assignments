{
 "cells": [
  {
   "cell_type": "markdown",
   "id": "blessed-skiing",
   "metadata": {},
   "source": [
    "                                                Assignemt 18"
   ]
  },
  {
   "cell_type": "markdown",
   "id": "vietnamese-amplifier",
   "metadata": {},
   "source": [
    "Question 1\n",
    "Create a function that takes a list of non-negative integers and strings and return a new list\n",
    "without the strings.\n"
   ]
  },
  {
   "cell_type": "code",
   "execution_count": 48,
   "id": "opening-sunset",
   "metadata": {},
   "outputs": [],
   "source": [
    "def filter_list(l):\n",
    "    ans = []\n",
    "    for i in range(len(l)):\n",
    "        if type(l[i]) != str:\n",
    "            ans.append(l[i])\n",
    "            \n",
    "    return ans"
   ]
  },
  {
   "cell_type": "code",
   "execution_count": 53,
   "id": "jewish-essay",
   "metadata": {},
   "outputs": [
    {
     "name": "stdout",
     "output_type": "stream",
     "text": [
      "[1, 2]\n"
     ]
    }
   ],
   "source": [
    "print(filter_list([1, 2,\"a\",\"b\"]))"
   ]
  },
  {
   "cell_type": "code",
   "execution_count": 54,
   "id": "animated-canadian",
   "metadata": {},
   "outputs": [
    {
     "name": "stdout",
     "output_type": "stream",
     "text": [
      "[1, 0, 15]\n"
     ]
    }
   ],
   "source": [
    "print(filter_list([1,\"a\",\"b\",0,15]))"
   ]
  },
  {
   "cell_type": "code",
   "execution_count": 55,
   "id": "satisfactory-exposure",
   "metadata": {},
   "outputs": [
    {
     "name": "stdout",
     "output_type": "stream",
     "text": [
      "[1, 2, 123]\n"
     ]
    }
   ],
   "source": [
    "print(filter_list([1,2,\"aasf\",\"1\",\"123\",123]))"
   ]
  },
  {
   "cell_type": "markdown",
   "id": "blond-aviation",
   "metadata": {},
   "source": [
    "Question 2\n",
    "The &quot;Reverser&quot; takes a string as input and returns that string in reverse order, with the\n",
    "opposite case.\n"
   ]
  },
  {
   "cell_type": "code",
   "execution_count": 6,
   "id": "weird-script",
   "metadata": {},
   "outputs": [],
   "source": [
    "def reverse(s):\n",
    "    rev = s[::-1]\n",
    "    rev =rev.swapcase()\n",
    "    return rev"
   ]
  },
  {
   "cell_type": "code",
   "execution_count": 10,
   "id": "impossible-shift",
   "metadata": {},
   "outputs": [
    {
     "name": "stdout",
     "output_type": "stream",
     "text": [
      "DLROw OLLEh\n"
     ]
    }
   ],
   "source": [
    "print(reverse(\"Hello World\"))"
   ]
  },
  {
   "cell_type": "code",
   "execution_count": 11,
   "id": "collectible-flesh",
   "metadata": {},
   "outputs": [
    {
     "name": "stdout",
     "output_type": "stream",
     "text": [
      "eSrEvEr\n"
     ]
    }
   ],
   "source": [
    "print(reverse(\"ReVeRsE\"))"
   ]
  },
  {
   "cell_type": "code",
   "execution_count": 12,
   "id": "laden-thursday",
   "metadata": {},
   "outputs": [
    {
     "name": "stdout",
     "output_type": "stream",
     "text": [
      "RADAr\n"
     ]
    }
   ],
   "source": [
    "print(reverse(\"Radar\"))"
   ]
  },
  {
   "cell_type": "markdown",
   "id": "sapphire-struggle",
   "metadata": {},
   "source": [
    "Question 3. You can assign variables from lists like this:"
   ]
  },
  {
   "cell_type": "code",
   "execution_count": 60,
   "id": "italic-provision",
   "metadata": {},
   "outputs": [],
   "source": [
    "def writeyourcodehere(l):\n",
    "    first = l[0]\n",
    "    length = len(l)\n",
    "    middle = l[1:length-1]\n",
    "    last = l[-1]\n",
    "    return first,middle,last"
   ]
  },
  {
   "cell_type": "code",
   "execution_count": 63,
   "id": "american-juice",
   "metadata": {},
   "outputs": [
    {
     "name": "stdout",
     "output_type": "stream",
     "text": [
      "first = 1 \n",
      "middle =[2, 3, 4, 5] \n",
      "last=6\n"
     ]
    }
   ],
   "source": [
    "first,middle,last=writeyourcodehere([1,2,3,4,5,6])\n",
    "print(\"first = {} \\nmiddle ={} \\nlast={}\".format(first,middle,last))"
   ]
  },
  {
   "cell_type": "markdown",
   "id": "hybrid-aspect",
   "metadata": {},
   "source": [
    "Question 4\n",
    "Write a function that calculates the factorial of a number recursively."
   ]
  },
  {
   "cell_type": "code",
   "execution_count": 66,
   "id": "flexible-christmas",
   "metadata": {},
   "outputs": [],
   "source": [
    "def factorial(n):\n",
    "    if n == 0:\n",
    "        return 1\n",
    "    else:\n",
    "        return n*factorial(n-1)"
   ]
  },
  {
   "cell_type": "code",
   "execution_count": 69,
   "id": "superb-bandwidth",
   "metadata": {},
   "outputs": [
    {
     "name": "stdout",
     "output_type": "stream",
     "text": [
      "120\n"
     ]
    }
   ],
   "source": [
    "print(factorial(5))"
   ]
  },
  {
   "cell_type": "code",
   "execution_count": 70,
   "id": "drawn-causing",
   "metadata": {},
   "outputs": [
    {
     "name": "stdout",
     "output_type": "stream",
     "text": [
      "6\n"
     ]
    }
   ],
   "source": [
    "print(factorial(3))"
   ]
  },
  {
   "cell_type": "code",
   "execution_count": 71,
   "id": "pointed-newcastle",
   "metadata": {},
   "outputs": [
    {
     "name": "stdout",
     "output_type": "stream",
     "text": [
      "1\n"
     ]
    }
   ],
   "source": [
    "print(factorial(1))"
   ]
  },
  {
   "cell_type": "code",
   "execution_count": 72,
   "id": "small-bottle",
   "metadata": {},
   "outputs": [
    {
     "name": "stdout",
     "output_type": "stream",
     "text": [
      "1\n"
     ]
    }
   ],
   "source": [
    "print(factorial(0))"
   ]
  },
  {
   "cell_type": "markdown",
   "id": "sorted-smart",
   "metadata": {},
   "source": [
    "Question 5\n",
    "Write a function that moves all elements of one type to the end of the list."
   ]
  },
  {
   "cell_type": "code",
   "execution_count": 13,
   "id": "looking-details",
   "metadata": {},
   "outputs": [],
   "source": [
    "def move_to_end(l,num):\n",
    "    ans = []\n",
    "    rem = []\n",
    "    for i in l:\n",
    "        if i == num:\n",
    "            ans.append(i)\n",
    "    for j in l:\n",
    "        if j != num:\n",
    "            rem.append(j)\n",
    "    return rem+ans"
   ]
  },
  {
   "cell_type": "code",
   "execution_count": 15,
   "id": "cooperative-configuration",
   "metadata": {},
   "outputs": [
    {
     "name": "stdout",
     "output_type": "stream",
     "text": [
      "[3, 2, 4, 4, 1, 1]\n"
     ]
    }
   ],
   "source": [
    "print(move_to_end([1, 3, 2, 4, 4, 1], 1))"
   ]
  },
  {
   "cell_type": "code",
   "execution_count": 16,
   "id": "level-likelihood",
   "metadata": {},
   "outputs": [
    {
     "name": "stdout",
     "output_type": "stream",
     "text": [
      "[7, 8, 1, 2, 3, 4, 9]\n"
     ]
    }
   ],
   "source": [
    "print(move_to_end([7, 8, 9, 1, 2, 3, 4], 9))"
   ]
  },
  {
   "cell_type": "code",
   "execution_count": 17,
   "id": "atomic-jacket",
   "metadata": {},
   "outputs": [
    {
     "name": "stdout",
     "output_type": "stream",
     "text": [
      "['b', 'a', 'a', 'a']\n"
     ]
    }
   ],
   "source": [
    "print(move_to_end([\"a\", \"a\", \"a\", \"b\"], \"a\"))"
   ]
  },
  {
   "cell_type": "code",
   "execution_count": null,
   "id": "broadband-clark",
   "metadata": {},
   "outputs": [],
   "source": []
  }
 ],
 "metadata": {
  "kernelspec": {
   "display_name": "Python 3",
   "language": "python",
   "name": "python3"
  },
  "language_info": {
   "codemirror_mode": {
    "name": "ipython",
    "version": 3
   },
   "file_extension": ".py",
   "mimetype": "text/x-python",
   "name": "python",
   "nbconvert_exporter": "python",
   "pygments_lexer": "ipython3",
   "version": "3.7.10"
  }
 },
 "nbformat": 4,
 "nbformat_minor": 5
}

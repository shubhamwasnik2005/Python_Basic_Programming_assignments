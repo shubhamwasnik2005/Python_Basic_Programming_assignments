{
 "cells": [
  {
   "cell_type": "markdown",
   "id": "narrative-tampa",
   "metadata": {},
   "source": [
    "                                                      Assignment 12"
   ]
  },
  {
   "cell_type": "markdown",
   "id": "standing-borough",
   "metadata": {},
   "source": [
    "1.\tWrite a Python program to Extract Unique values dictionary values?"
   ]
  },
  {
   "cell_type": "code",
   "execution_count": 2,
   "id": "destroyed-scientist",
   "metadata": {},
   "outputs": [
    {
     "name": "stdout",
     "output_type": "stream",
     "text": [
      "Original dictionary is \n",
      " {'num1': [1, 2, 3], 'num2': [22, 51, 63, 77, 44], 'num3': 44, 'num4': 12.5} \n",
      "Unique values of dictionary is \n",
      "[1, 2, 3, 44, 77, 12.5, 51, 22, 63]\n"
     ]
    }
   ],
   "source": [
    "def dict_ip(n):\n",
    "    # This function is used to take input as integer or float from user in dictionary\n",
    "    d={}\n",
    "    for i in range(n):\n",
    "        key = input(\"Enter dictionary key:- \")\n",
    "        d[key] = float(input(\"Enter value:- \"))\n",
    "    return d\n",
    "\n",
    "def dict_ip_any(n):\n",
    "    # This function is used to take input from user in dictionary\n",
    "    d={}\n",
    "    for i in range(n):\n",
    "        key = input(\"Enter dictionary key:- \")\n",
    "        d[key] = input(\"Enter value:- \")\n",
    "    return d\n",
    "\n",
    "def dict_unique_val(d):\n",
    "    l=[]\n",
    "    for i in d.values():\n",
    "        if type(i) == list:\n",
    "            for j in i:\n",
    "                l.append(j)\n",
    "        elif type(i) == int:\n",
    "            l.append(i)\n",
    "        elif type(i) == float:\n",
    "            l.append(i)\n",
    "        else:\n",
    "            continue\n",
    "    \n",
    "    s =set(l)\n",
    "    return list(s)\n",
    "\n",
    "d = {'num1':[1,2,3],'num2':[22, 51, 63, 77,44],'num3':44,'num4':12.5}\n",
    "print(\"Original dictionary is \\n {} \".format(d))\n",
    "print(\"Unique values of dictionary is \")\n",
    "print(dict_unique_val(d))\n",
    "        \n"
   ]
  },
  {
   "cell_type": "markdown",
   "id": "regulated-aviation",
   "metadata": {},
   "source": [
    "2.\tWrite a Python program to find the sum of all items in a dictionary?"
   ]
  },
  {
   "cell_type": "code",
   "execution_count": 18,
   "id": "substantial-graphics",
   "metadata": {},
   "outputs": [
    {
     "name": "stdout",
     "output_type": "stream",
     "text": [
      "Enter number of key value pair in dictionary:- 4\n",
      "Enter dictionary key:- a\n",
      "Enter value:- 10\n",
      "Enter dictionary key:- b\n",
      "Enter value:- 1.2\n",
      "Enter dictionary key:- c\n",
      "Enter value:- 6\n",
      "Enter dictionary key:- d\n",
      "Enter value:- 4.4\n",
      "Sum of dictionary value is 21.6\n"
     ]
    }
   ],
   "source": [
    "\n",
    "def dict_sum(d):\n",
    "    # This function is used to find sum of values of dictionary\n",
    "    sumi = 0\n",
    "    for i in d:\n",
    "        sumi = sumi + d[i]\n",
    "    return sumi\n",
    "        \n",
    "\n",
    "n = int(input(\"Enter number of key value pair in dictionary:- \"))\n",
    "d = dict_ip(n)\n",
    "sumi = dict_sum(d)\n",
    "print(\"Sum of dictionary value is {}\".format(sumi))\n",
    "        "
   ]
  },
  {
   "cell_type": "markdown",
   "id": "instrumental-cotton",
   "metadata": {},
   "source": [
    "3.\tWrite a Python program to Merging two Dictionaries?"
   ]
  },
  {
   "cell_type": "code",
   "execution_count": 26,
   "id": "armed-martial",
   "metadata": {},
   "outputs": [
    {
     "name": "stdout",
     "output_type": "stream",
     "text": [
      "Enter number of key value pair in dictionary 1:- 2\n",
      "Enter dictionary key:- a\n",
      "Enter value:- shubham\n",
      "Enter dictionary key:- b\n",
      "Enter value:- ineuron\n",
      "Enter number of key value pair in dictionary 2:- 2\n",
      "Enter dictionary key:- c\n",
      "Enter value:- 10\n",
      "Enter dictionary key:- d\n",
      "Enter value:- 14\n",
      "Dictionay after merging is \n",
      "\n",
      "{'a': 'shubham', 'b': 'ineuron', 'c': '10', 'd': '14'}\n"
     ]
    }
   ],
   "source": [
    "def dict_merg(d1,d2):\n",
    "    d = {}\n",
    "    for i in d1:\n",
    "        if i in d:\n",
    "            continue\n",
    "        else:\n",
    "            d[i] = d1[i]\n",
    "    for j in d2:\n",
    "        if j in d:\n",
    "            continue\n",
    "        else:\n",
    "            d[j] = d2[j]\n",
    "    return d\n",
    "\n",
    "\n",
    "n1 = int(input(\"Enter number of key value pair in dictionary 1:- \"))\n",
    "d1 = dict_ip_any(n1)\n",
    "n2 = int(input(\"Enter number of key value pair in dictionary 2:- \"))\n",
    "d2 = dict_ip_any(n2)\n",
    "d = dict_merg(d1,d2)\n",
    "print(\"Dictionay after merging is \\n\")\n",
    "print(d)\n",
    "\n",
    "\n"
   ]
  },
  {
   "cell_type": "markdown",
   "id": "played-given",
   "metadata": {},
   "source": [
    "4.\tWrite a Python program to convert key-values list to flat dictionary?"
   ]
  },
  {
   "cell_type": "code",
   "execution_count": 22,
   "id": "informal-dressing",
   "metadata": {},
   "outputs": [
    {
     "name": "stdout",
     "output_type": "stream",
     "text": [
      "Original dictionary is {'name': ['A', 'B', 'C'], 'rank': [1, 5, 7]}\n",
      "flat dictionary is {'A': 1, 'B': 5, 'C': 7}\n"
     ]
    }
   ],
   "source": [
    "d = {\"name\":['A','B','C'],\"rank\":[1,5,7]}\n",
    "print(\"Original dictionary is {}\".format(d))\n",
    "\n",
    "ans = dict(zip(d['name'], d['rank']))\n",
    "print(\"flat dictionary is {}\".format(ans))\n",
    "\n"
   ]
  },
  {
   "cell_type": "markdown",
   "id": "stock-defense",
   "metadata": {},
   "source": [
    "5.\tWrite a Python program to insertion at the beginning in OrderedDict?"
   ]
  },
  {
   "cell_type": "code",
   "execution_count": 9,
   "id": "opponent-stationery",
   "metadata": {},
   "outputs": [
    {
     "name": "stdout",
     "output_type": "stream",
     "text": [
      "Enter number of elements in dictionary 2\n",
      "Enter dictionary key:- shubham\n",
      "Enter value:- 1\n",
      "Enter dictionary key:- ineuron\n",
      "Enter value:- 2\n",
      "Enter element that you want to add:-\n",
      "\n",
      "Enter key:-\n",
      "dsa\n",
      "Enter value:- \n",
      "3\n",
      "Ordered dictionary is OrderedDict([('dsa', '3'), ('shubham', '1'), ('ineuron', '2')])\n"
     ]
    }
   ],
   "source": [
    "from collections import OrderedDict \n",
    "\n",
    "n = int(input(\"Enter number of elements in dictionary \"))\n",
    "d = dict_ip_any(n)\n",
    "ordered_d = OrderedDict(d)\n",
    " \n",
    "\n",
    "print(\"Enter element that you want to add:-\\n\")\n",
    "name = input(\"Enter key:-\\n\")\n",
    "val = input(\"Enter value:- \\n\")\n",
    "ordered_d.update({name:val})\n",
    " \n",
    "ordered_d.move_to_end(name,last=False)\n",
    "print(\"Ordered dictionary is {}\".format(ordered_d))"
   ]
  },
  {
   "cell_type": "markdown",
   "id": "aggregate-triple",
   "metadata": {},
   "source": [
    "6.\tWrite a Python program to check order of character in string using OrderedDict()?"
   ]
  },
  {
   "cell_type": "code",
   "execution_count": 10,
   "id": "biblical-removal",
   "metadata": {},
   "outputs": [
    {
     "name": "stdout",
     "output_type": "stream",
     "text": [
      "Given string contains ordered characters 'ack'\n"
     ]
    }
   ],
   "source": [
    "from collections import OrderedDict\n",
    "\n",
    "\n",
    "def checkString(d,ip):\n",
    "    dd = OrderedDict.fromkeys(d)\n",
    "    ans = 0\n",
    "    n = 0\n",
    "    for i in dd:\n",
    "        if i == ip[n]:\n",
    "            n = n+1\n",
    "        if n==len(ip):\n",
    "            ans = 1\n",
    "            n=0\n",
    "    return ans\n",
    "\n",
    "\n",
    "\n",
    "d = \"This is full stack data science course of iNeureon\"\n",
    "ip = \"ack\"\n",
    "\n",
    "\n",
    "if(checkString(d,ip)==1):\n",
    "    print(\"Given string contains ordered characters '{}'\".format(ip))\n",
    "else:\n",
    "    print(\"Given string do not contains ordered characters '{}'\".format(ip))\n",
    "\n",
    "    \n",
    "    "
   ]
  },
  {
   "cell_type": "markdown",
   "id": "interested-documentation",
   "metadata": {},
   "source": [
    "7.\tWrite a Python program to sort Python Dictionaries by Key or Value?"
   ]
  },
  {
   "cell_type": "code",
   "execution_count": 25,
   "id": "enclosed-cattle",
   "metadata": {},
   "outputs": [
    {
     "name": "stdout",
     "output_type": "stream",
     "text": [
      "Enter number of element :-5\n",
      "Enter dictionary key:- z\n",
      "Enter value:- 47\n",
      "Enter dictionary key:- m\n",
      "Enter value:- 14\n",
      "Enter dictionary key:- l\n",
      "Enter value:- 17\n",
      "Enter dictionary key:- o\n",
      "Enter value:- 6\n",
      "Enter dictionary key:- q\n",
      "Enter value:- 12\n",
      "This is original dictionary {'z': '47', 'm': '14', 'l': '17', 'o': '6', 'q': '12'}\n",
      "\n",
      "This is sorted dictionary {'l': '17', 'm': '14', 'o': '6', 'q': '12', 'z': '47'}\n",
      "\n"
     ]
    }
   ],
   "source": [
    "\n",
    "\n",
    "def sorted_dict_keys(d):\n",
    "    ans = {}\n",
    "    for i in sorted(d.keys()):\n",
    "        ans[i]=d[i]\n",
    "    return ans\n",
    "\n",
    "\n",
    "n = int(input(\"Enter number of element :-\"))\n",
    "d=dict_ip_any(n)\n",
    "print(\"This is original dictionary {}\\n\".format(d))\n",
    "ans = sorted_dict_keys(d)\n",
    "print(\"This is sorted dictionary {}\\n\".format(ans))\n"
   ]
  },
  {
   "cell_type": "code",
   "execution_count": null,
   "id": "exact-instrument",
   "metadata": {},
   "outputs": [],
   "source": []
  }
 ],
 "metadata": {
  "kernelspec": {
   "display_name": "Python 3",
   "language": "python",
   "name": "python3"
  },
  "language_info": {
   "codemirror_mode": {
    "name": "ipython",
    "version": 3
   },
   "file_extension": ".py",
   "mimetype": "text/x-python",
   "name": "python",
   "nbconvert_exporter": "python",
   "pygments_lexer": "ipython3",
   "version": "3.7.10"
  }
 },
 "nbformat": 4,
 "nbformat_minor": 5
}

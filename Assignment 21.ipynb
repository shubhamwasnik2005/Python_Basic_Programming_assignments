{
 "cells": [
  {
   "cell_type": "markdown",
   "id": "sustainable-canyon",
   "metadata": {},
   "source": [
    "                                                Assignment 21"
   ]
  },
  {
   "cell_type": "markdown",
   "id": "olympic-companion",
   "metadata": {},
   "source": [
    "Question 1. Write a function that takes a list and a number as arguments. Add the number to the end of\n",
    "the list, then remove the first element of the list. The function should then return the updated\n",
    "list."
   ]
  },
  {
   "cell_type": "code",
   "execution_count": 21,
   "id": "beautiful-seller",
   "metadata": {},
   "outputs": [],
   "source": [
    "def next_in_line(l,ele):\n",
    "    if len(l)==0:\n",
    "        return \"No list has been selected\"\n",
    "    else:\n",
    "        l.append(ele)\n",
    "    return l"
   ]
  },
  {
   "cell_type": "code",
   "execution_count": 23,
   "id": "appreciated-cleaners",
   "metadata": {},
   "outputs": [
    {
     "name": "stdout",
     "output_type": "stream",
     "text": [
      "[5, 6, 7, 8, 9, 1]\n"
     ]
    }
   ],
   "source": [
    "print(next_in_line([5, 6, 7, 8, 9], 1))"
   ]
  },
  {
   "cell_type": "code",
   "execution_count": 24,
   "id": "cardiovascular-promise",
   "metadata": {},
   "outputs": [
    {
     "name": "stdout",
     "output_type": "stream",
     "text": [
      "[7, 6, 3, 23, 17, 10]\n"
     ]
    }
   ],
   "source": [
    "print(next_in_line([7, 6, 3, 23, 17], 10))"
   ]
  },
  {
   "cell_type": "code",
   "execution_count": 25,
   "id": "north-criminal",
   "metadata": {},
   "outputs": [
    {
     "name": "stdout",
     "output_type": "stream",
     "text": [
      "[1, 10, 20, 42, 6]\n"
     ]
    }
   ],
   "source": [
    "print(next_in_line([1, 10, 20, 42 ], 6))"
   ]
  },
  {
   "cell_type": "code",
   "execution_count": 26,
   "id": "acceptable-skating",
   "metadata": {},
   "outputs": [
    {
     "name": "stdout",
     "output_type": "stream",
     "text": [
      "No list has been selected\n"
     ]
    }
   ],
   "source": [
    "print(next_in_line([], 6))"
   ]
  },
  {
   "cell_type": "markdown",
   "id": "statistical-timing",
   "metadata": {},
   "source": [
    "Question2\n",
    "Create the function that takes a list of dictionaries and returns the sum of people&#39;s budgets."
   ]
  },
  {
   "cell_type": "code",
   "execution_count": 13,
   "id": "assigned-example",
   "metadata": {},
   "outputs": [],
   "source": [
    "def get_budgets(s):\n",
    "    ans = 0;\n",
    "    for i in s:\n",
    "        ans = ans + i[\"budget\"]   \n",
    "    return ans\n",
    "        "
   ]
  },
  {
   "cell_type": "code",
   "execution_count": 15,
   "id": "imposed-johnson",
   "metadata": {},
   "outputs": [
    {
     "name": "stdout",
     "output_type": "stream",
     "text": [
      "65700\n"
     ]
    }
   ],
   "source": [
    "print(get_budgets([\n",
    "    {\"name\":\"John\",\"age\":21,\"budget\":23000},\n",
    "    {\"name\":\"Steve\",\"age\":32,\"budget\":40000},\n",
    "    {\"name\":\"Martin\",\"age\":16,\"budget\":2700}\n",
    "    \n",
    "]))"
   ]
  },
  {
   "cell_type": "code",
   "execution_count": 16,
   "id": "artificial-witch",
   "metadata": {},
   "outputs": [
    {
     "name": "stdout",
     "output_type": "stream",
     "text": [
      "62600\n"
     ]
    }
   ],
   "source": [
    "print(get_budgets([\n",
    "    {\"name\":\"John\",\"age\":21,\"budget\":29000},\n",
    "    {\"name\":\"Steve\",\"age\":32,\"budget\":32000},\n",
    "    {\"name\":\"Martin\",\"age\":16,\"budget\":1600}\n",
    "    \n",
    "]))"
   ]
  },
  {
   "cell_type": "markdown",
   "id": "massive-limitation",
   "metadata": {},
   "source": [
    "Question3\n",
    "Create a function that takes a string and returns a string with its letters in alphabetical order."
   ]
  },
  {
   "cell_type": "code",
   "execution_count": 32,
   "id": "prerequisite-boutique",
   "metadata": {},
   "outputs": [],
   "source": [
    "def alphabet_soup(s):\n",
    "    return \"\".join(sorted(s))"
   ]
  },
  {
   "cell_type": "code",
   "execution_count": 34,
   "id": "integrated-advocacy",
   "metadata": {},
   "outputs": [
    {
     "name": "stdout",
     "output_type": "stream",
     "text": [
      "ehllo\n"
     ]
    }
   ],
   "source": [
    "print(alphabet_soup(\"hello\"))"
   ]
  },
  {
   "cell_type": "code",
   "execution_count": 35,
   "id": "satisfactory-blade",
   "metadata": {},
   "outputs": [
    {
     "name": "stdout",
     "output_type": "stream",
     "text": [
      "abdeit\n"
     ]
    }
   ],
   "source": [
    "print(alphabet_soup(\"edabit\"))"
   ]
  },
  {
   "cell_type": "code",
   "execution_count": 36,
   "id": "scheduled-opening",
   "metadata": {},
   "outputs": [
    {
     "name": "stdout",
     "output_type": "stream",
     "text": [
      "acehkr\n"
     ]
    }
   ],
   "source": [
    "print(alphabet_soup(\"hacker\"))"
   ]
  },
  {
   "cell_type": "code",
   "execution_count": 37,
   "id": "listed-summary",
   "metadata": {},
   "outputs": [
    {
     "name": "stdout",
     "output_type": "stream",
     "text": [
      "eegk\n"
     ]
    }
   ],
   "source": [
    "print(alphabet_soup(\"geek\"))"
   ]
  },
  {
   "cell_type": "code",
   "execution_count": 38,
   "id": "occupied-gothic",
   "metadata": {},
   "outputs": [
    {
     "name": "stdout",
     "output_type": "stream",
     "text": [
      "aacijprstv\n"
     ]
    }
   ],
   "source": [
    "print(alphabet_soup(\"javascript\"))"
   ]
  },
  {
   "cell_type": "markdown",
   "id": "existing-difficulty",
   "metadata": {},
   "source": [
    "Question4\n",
    "Suppose that you invest $10,000 for 10 years at an interest rate of 6% compounded monthly.\n",
    "What will be the value of your investment at the end of the 10 year period?\n",
    "Create a function that accepts the principal p, the term in years t, the interest rate r, and the\n",
    "number of compounding periods per year n. The function returns the value at the end of term\n",
    "rounded to the nearest cent.\n",
    "For the example above:\n",
    "compound_interest(10000, 10, 0.06, 12) ➞ 18193.97\n",
    "Note that the interest rate is given as a decimal and n=12 because with monthly compounding\n",
    "there are 12 periods per year. Compounding can also be done annually, quarterly, weekly, or\n",
    "daily."
   ]
  },
  {
   "cell_type": "code",
   "execution_count": 52,
   "id": "large-isaac",
   "metadata": {},
   "outputs": [],
   "source": [
    "def compound_interest(P,t,r,n):\n",
    "    return round(P*(1+(r/n))**(n*t),2)"
   ]
  },
  {
   "cell_type": "code",
   "execution_count": 53,
   "id": "molecular-combat",
   "metadata": {},
   "outputs": [
    {
     "name": "stdout",
     "output_type": "stream",
     "text": [
      "105.0\n"
     ]
    }
   ],
   "source": [
    "print(compound_interest(100,1,0.05,1))"
   ]
  },
  {
   "cell_type": "code",
   "execution_count": 54,
   "id": "serial-twist",
   "metadata": {},
   "outputs": [
    {
     "name": "stdout",
     "output_type": "stream",
     "text": [
      "15399.26\n"
     ]
    }
   ],
   "source": [
    "print(compound_interest(3500, 15, 0.1, 4))"
   ]
  },
  {
   "cell_type": "code",
   "execution_count": 55,
   "id": "solved-asian",
   "metadata": {},
   "outputs": [
    {
     "name": "stdout",
     "output_type": "stream",
     "text": [
      "2007316.26\n"
     ]
    }
   ],
   "source": [
    "print(compound_interest(100000, 20, 0.15, 365))"
   ]
  },
  {
   "cell_type": "markdown",
   "id": "entire-assembly",
   "metadata": {},
   "source": [
    "Question5\n",
    "Write a function that takes a list of elements and returns only the integers."
   ]
  },
  {
   "cell_type": "code",
   "execution_count": 7,
   "id": "foreign-parade",
   "metadata": {},
   "outputs": [],
   "source": [
    "def return_only_integer(l):\n",
    "    ans = []\n",
    "    for i in l:\n",
    "        if type(i) == int:\n",
    "            ans.append(i)\n",
    "    return ans\n",
    "            "
   ]
  },
  {
   "cell_type": "code",
   "execution_count": 9,
   "id": "binding-minnesota",
   "metadata": {},
   "outputs": [
    {
     "name": "stdout",
     "output_type": "stream",
     "text": [
      "[9, 2, 16]\n"
     ]
    }
   ],
   "source": [
    "print(return_only_integer([9,2,\"space\",\"car\",\"lion\",16]))"
   ]
  },
  {
   "cell_type": "code",
   "execution_count": 10,
   "id": "dependent-popularity",
   "metadata": {},
   "outputs": [
    {
     "name": "stdout",
     "output_type": "stream",
     "text": [
      "[81, 123]\n"
     ]
    }
   ],
   "source": [
    "print(return_only_integer([\"hello\",81,\"basketball\",123,\"fox\"]))"
   ]
  },
  {
   "cell_type": "code",
   "execution_count": 11,
   "id": "portuguese-triangle",
   "metadata": {},
   "outputs": [
    {
     "name": "stdout",
     "output_type": "stream",
     "text": [
      "[10, 56, 20, 3]\n"
     ]
    }
   ],
   "source": [
    "print(return_only_integer([10,\"121\",56,20,\"car\",3,\"lion\"]))"
   ]
  },
  {
   "cell_type": "code",
   "execution_count": 12,
   "id": "efficient-siemens",
   "metadata": {},
   "outputs": [
    {
     "name": "stdout",
     "output_type": "stream",
     "text": [
      "[1]\n"
     ]
    }
   ],
   "source": [
    "print(return_only_integer([\"String\",True,3.3,1]))"
   ]
  },
  {
   "cell_type": "markdown",
   "id": "specified-webster",
   "metadata": {},
   "source": []
  },
  {
   "cell_type": "code",
   "execution_count": null,
   "id": "chinese-jordan",
   "metadata": {},
   "outputs": [],
   "source": []
  }
 ],
 "metadata": {
  "kernelspec": {
   "display_name": "Python 3",
   "language": "python",
   "name": "python3"
  },
  "language_info": {
   "codemirror_mode": {
    "name": "ipython",
    "version": 3
   },
   "file_extension": ".py",
   "mimetype": "text/x-python",
   "name": "python",
   "nbconvert_exporter": "python",
   "pygments_lexer": "ipython3",
   "version": "3.7.10"
  }
 },
 "nbformat": 4,
 "nbformat_minor": 5
}

{
 "cells": [
  {
   "cell_type": "markdown",
   "id": "saving-wrapping",
   "metadata": {},
   "source": [
    "                                                   Assignment 10\n",
    "1.\tWrite a Python program to find sum of elements in list?"
   ]
  },
  {
   "cell_type": "code",
   "execution_count": 4,
   "id": "essential-bumper",
   "metadata": {},
   "outputs": [
    {
     "name": "stdout",
     "output_type": "stream",
     "text": [
      "Enter number of elements in list :- 5\n",
      "1\n",
      "2\n",
      "3\n",
      "4\n",
      "5\n",
      "Sum of list elements is 15.0\n"
     ]
    }
   ],
   "source": [
    "n = int(input(\"Enter number of elements in list :- \"))\n",
    "l =[]\n",
    "sumi = 0\n",
    "for i in range(n):\n",
    "    l.append(float(input()))\n",
    "    sumi = sumi + l[i]\n",
    "print(\"Sum of list elements is {}\".format(sumi))"
   ]
  },
  {
   "cell_type": "markdown",
   "id": "fifteen-appearance",
   "metadata": {},
   "source": [
    "2.\tWrite a Python program to  Multiply all numbers in the list?"
   ]
  },
  {
   "cell_type": "code",
   "execution_count": 7,
   "id": "handled-brazilian",
   "metadata": {},
   "outputs": [
    {
     "name": "stdout",
     "output_type": "stream",
     "text": [
      "Enter number of elements in list :- 5\n",
      "1\n",
      "2\n",
      "3\n",
      "4\n",
      "5\n",
      "Product of list elements is 120.0\n"
     ]
    }
   ],
   "source": [
    "n = int(input(\"Enter number of elements in list :- \"))\n",
    "l =[]\n",
    "pro = 1\n",
    "for i in range(n):\n",
    "    l.append(float(input()))\n",
    "    pro = pro * l[i]\n",
    "print(\"Product of list elements is {}\".format(pro))"
   ]
  },
  {
   "cell_type": "markdown",
   "id": "functioning-underground",
   "metadata": {},
   "source": [
    "3.\tWrite a Python program to find smallest number in a list?"
   ]
  },
  {
   "cell_type": "code",
   "execution_count": 11,
   "id": "increasing-updating",
   "metadata": {},
   "outputs": [
    {
     "name": "stdout",
     "output_type": "stream",
     "text": [
      "Enter number of elements in list :- 9\n",
      "1\n",
      "15\n",
      "17\n",
      "3\n",
      "6\n",
      "48\n",
      "74\n",
      "5\n",
      "1\n",
      "Minimum value of list element is 1.0\n"
     ]
    }
   ],
   "source": [
    "n = int(input(\"Enter number of elements in list :- \"))\n",
    "l =[]\n",
    "for i in range(n):\n",
    "    l.append(float(input()))\n",
    "minimum = 999999\n",
    "for i in range(n):\n",
    "    if l[i]<=minimum:\n",
    "        minimum = l[i]\n",
    "print(\"Minimum value of list element is {}\".format(minimum))"
   ]
  },
  {
   "cell_type": "markdown",
   "id": "proof-former",
   "metadata": {},
   "source": [
    "4.\tWrite a Python program to find largest number in a list?"
   ]
  },
  {
   "cell_type": "code",
   "execution_count": 13,
   "id": "described-prospect",
   "metadata": {},
   "outputs": [
    {
     "name": "stdout",
     "output_type": "stream",
     "text": [
      "Enter number of elements in list :- 5\n",
      "1\n",
      "17\n",
      "16\n",
      "44\n",
      "79\n",
      "Maximum value of list element is 79.0\n"
     ]
    }
   ],
   "source": [
    "n = int(input(\"Enter number of elements in list :- \"))\n",
    "l =[]\n",
    "for i in range(n):\n",
    "    l.append(float(input()))\n",
    "maximum = -1\n",
    "for i in range(n):\n",
    "    if l[i]>=maximum:\n",
    "        maximum = l[i]\n",
    "print(\"Maximum value of list element is {}\".format(maximum))"
   ]
  },
  {
   "cell_type": "markdown",
   "id": "dense-arbor",
   "metadata": {},
   "source": [
    "5.\tWrite a Python program to find second largest number in a list?"
   ]
  },
  {
   "cell_type": "code",
   "execution_count": 46,
   "id": "senior-adjustment",
   "metadata": {},
   "outputs": [
    {
     "name": "stdout",
     "output_type": "stream",
     "text": [
      "Enter number of elements :- 6\n",
      "7\n",
      "8\n",
      "6\n",
      "2\n",
      "4\n",
      "5\n",
      "Second largest number in array is 7.0\n"
     ]
    }
   ],
   "source": [
    "def BubbleSort(A):\n",
    "    n = len(A)\n",
    "    for i in range(0,n-1):\n",
    "        j = i+1\n",
    "        while(j<n):\n",
    "            if A[i]>=A[j]:\n",
    "                temp = A[j]\n",
    "                A[j]=A[i]\n",
    "                A[i]=temp\n",
    "            j=j+1\n",
    "    return A\n",
    "\n",
    "\n",
    "n = int(input(\"Enter number of elements :- \"))\n",
    "l = []\n",
    "for i in range(n):\n",
    "    l.append(float(input()))\n",
    "    \n",
    "temp = BubbleSort(l)\n",
    "s = len(temp)-2\n",
    "print(\"Second largest number in array is {}\".format(temp[s]))\n"
   ]
  },
  {
   "cell_type": "markdown",
   "id": "guided-habitat",
   "metadata": {},
   "source": [
    "6.\tWrite a Python program to find N largest elements from a list?"
   ]
  },
  {
   "cell_type": "code",
   "execution_count": 7,
   "id": "distinct-england",
   "metadata": {},
   "outputs": [
    {
     "name": "stdout",
     "output_type": "stream",
     "text": [
      "Enter number of elements :- 5\n",
      "Enter N number of lagest number required:- 3\n",
      "77\n",
      "96\n",
      "41\n",
      "63\n",
      "7\n",
      "3 largest number is as follows \n",
      "96.0\n",
      "77.0\n",
      "63.0\n"
     ]
    }
   ],
   "source": [
    "def BubbleSort(A):\n",
    "    n = len(A)\n",
    "    for i in range(0,n-1):\n",
    "        j = i+1\n",
    "        while(j<n):\n",
    "            if A[i]<=A[j]:\n",
    "                temp = A[j]\n",
    "                A[j]=A[i]\n",
    "                A[i]=temp\n",
    "            j=j+1\n",
    "    return A\n",
    "\n",
    "n = int(input(\"Enter number of elements :- \"))\n",
    "m = int(input(\"Enter N number of lagest number required:- \"))\n",
    "l = []\n",
    "for i in range(n):\n",
    "    l.append(float(input()))\n",
    "temp = BubbleSort(l)\n",
    "\n",
    "print(\"{} largest number is as follows \".format(m))\n",
    "for j in range(m):\n",
    "    print(temp[j])\n",
    "\n"
   ]
  },
  {
   "cell_type": "markdown",
   "id": "serial-karaoke",
   "metadata": {},
   "source": [
    "7.\tWrite a Python program to print even numbers in a list?"
   ]
  },
  {
   "cell_type": "code",
   "execution_count": 3,
   "id": "minor-voluntary",
   "metadata": {},
   "outputs": [
    {
     "name": "stdout",
     "output_type": "stream",
     "text": [
      "Enter number of elements in list :- 5\n",
      "1\n",
      "2\n",
      "3\n",
      "4\n",
      "5\n",
      "List of even number is [2.0, 4.0]\n"
     ]
    }
   ],
   "source": [
    "n = int(input(\"Enter number of elements in list :- \"))\n",
    "l =[]\n",
    "even=[]\n",
    "for i in range(n):\n",
    "    l.append(float(input()))\n",
    "    if l[i]%2==0:\n",
    "        even.append(l[i])\n",
    "print(\"List of even number is {}\".format(even))"
   ]
  },
  {
   "cell_type": "markdown",
   "id": "innocent-relevance",
   "metadata": {},
   "source": [
    "8.\tWrite a Python program to print odd numbers in a List?"
   ]
  },
  {
   "cell_type": "code",
   "execution_count": 4,
   "id": "filled-berlin",
   "metadata": {},
   "outputs": [
    {
     "name": "stdout",
     "output_type": "stream",
     "text": [
      "Enter number of elements in list :- 5\n",
      "1\n",
      "2\n",
      "3\n",
      "4\n",
      "5\n",
      "List of odd number is [1.0, 3.0, 5.0]\n"
     ]
    }
   ],
   "source": [
    "n = int(input(\"Enter number of elements in list :- \"))\n",
    "l =[]\n",
    "odd=[]\n",
    "for i in range(n):\n",
    "    l.append(float(input()))\n",
    "    if l[i]%2!=0:\n",
    "        odd.append(l[i])\n",
    "print(\"List of odd number is {}\".format(odd))"
   ]
  },
  {
   "cell_type": "markdown",
   "id": "breathing-language",
   "metadata": {},
   "source": [
    "9.\tWrite a Python program to Remove empty List from List?"
   ]
  },
  {
   "cell_type": "code",
   "execution_count": 13,
   "id": "environmental-mission",
   "metadata": {},
   "outputs": [
    {
     "name": "stdout",
     "output_type": "stream",
     "text": [
      "This is original list [[25, 14], 'shubham', [], [25, 79], 23.5, []]\n",
      "This is list after removal of empty list [[25, 14], 'shubham', [25, 79], 23.5]\n"
     ]
    }
   ],
   "source": [
    "l = [[25,14],\"shubham\",[],[25,79],23.5,[]]\n",
    "print(\"This is original list {}\".format(l))\n",
    "count = 0\n",
    "for i in l:\n",
    "    if i == []:\n",
    "        l.pop(count)\n",
    "    count = count +1\n",
    "print(\"This is list after removal of empty list {}\".format(l))\n"
   ]
  },
  {
   "cell_type": "markdown",
   "id": "skilled-keeping",
   "metadata": {},
   "source": [
    "10.\tWrite a Python program to Cloning or Copying a list?"
   ]
  },
  {
   "cell_type": "code",
   "execution_count": 8,
   "id": "behind-military",
   "metadata": {},
   "outputs": [
    {
     "name": "stdout",
     "output_type": "stream",
     "text": [
      "Enter number of elements in list :- 5\n",
      "1\n",
      "2\n",
      "3\n",
      "4\n",
      "5\n",
      "This is original list [1.0, 2.0, 3.0, 4.0, 5.0]\n",
      "This is copied list [1.0, 2.0, 3.0, 4.0, 5.0]\n"
     ]
    }
   ],
   "source": [
    "n = int(input(\"Enter number of elements in list :- \"))\n",
    "l =[]\n",
    "copy_list =[]\n",
    "for i in range(n):\n",
    "    l.append(float(input()))\n",
    "for j in l:\n",
    "    copy_list.append(j)\n",
    "    \n",
    "print(\"This is original list {}\".format(l))\n",
    "print(\"This is copied list {}\".format(copy_list))\n",
    "    "
   ]
  },
  {
   "cell_type": "markdown",
   "id": "cellular-gallery",
   "metadata": {},
   "source": [
    "11.\tWrite a Python program to Count occurrences of an element in a list?"
   ]
  },
  {
   "cell_type": "code",
   "execution_count": 8,
   "id": "supreme-literature",
   "metadata": {},
   "outputs": [
    {
     "name": "stdout",
     "output_type": "stream",
     "text": [
      "Enter number of element in list:- 5\n",
      "1\n",
      "2\n",
      "2\n",
      "3\n",
      "4\n",
      "Element 1.0 occoured 1 times\n",
      "Element 2.0 occoured 2 times\n",
      "Element 3.0 occoured 1 times\n",
      "Element 4.0 occoured 1 times\n"
     ]
    }
   ],
   "source": [
    "n = int(input(\"Enter number of element in list:- \"))\n",
    "l=[]\n",
    "d = {}\n",
    "for i in range(n):\n",
    "    l.append(float(input()))\n",
    "for j in l:\n",
    "    if j in d:\n",
    "        d[j] = d[j] + 1\n",
    "    else:\n",
    "        d[j] = 1\n",
    "for k in d:\n",
    "    print(\"Element {} occoured {} times\".format(k,d[k]))\n",
    "        \n",
    "        \n",
    "    "
   ]
  },
  {
   "cell_type": "markdown",
   "id": "limited-major",
   "metadata": {},
   "source": [
    " "
   ]
  },
  {
   "cell_type": "markdown",
   "id": "coral-parts",
   "metadata": {},
   "source": []
  },
  {
   "cell_type": "markdown",
   "id": "major-december",
   "metadata": {},
   "source": []
  },
  {
   "cell_type": "code",
   "execution_count": null,
   "id": "bottom-entrepreneur",
   "metadata": {},
   "outputs": [],
   "source": []
  }
 ],
 "metadata": {
  "kernelspec": {
   "display_name": "Python 3",
   "language": "python",
   "name": "python3"
  },
  "language_info": {
   "codemirror_mode": {
    "name": "ipython",
    "version": 3
   },
   "file_extension": ".py",
   "mimetype": "text/x-python",
   "name": "python",
   "nbconvert_exporter": "python",
   "pygments_lexer": "ipython3",
   "version": "3.7.10"
  }
 },
 "nbformat": 4,
 "nbformat_minor": 5
}

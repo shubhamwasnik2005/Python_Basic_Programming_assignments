{
 "cells": [
  {
   "cell_type": "markdown",
   "id": "accompanied-military",
   "metadata": {},
   "source": [
    "                                                Assignment 8\n",
    " 1.\tWrite a Python Program to Add Two Matrices?"
   ]
  },
  {
   "cell_type": "code",
   "execution_count": 11,
   "id": "systematic-halifax",
   "metadata": {},
   "outputs": [
    {
     "name": "stdout",
     "output_type": "stream",
     "text": [
      "Enter number of Rows in matrix A:- 2\n",
      "Enter number of columns in matrix A:- 2\n",
      " [1][1]:- 1\n",
      " [1][2]:- 2\n",
      " [2][1]:- 2\n",
      " [2][2]:- 4\n",
      "\n",
      "\n",
      "1.0 2.0 \n",
      "\n",
      "2.0 4.0 \n",
      "\n",
      "Enter number of Rows in matrix B:- 2\n",
      "Enter number of columns in matrix B:- 2\n",
      " [1][1]:- 1\n",
      " [1][2]:- 2\n",
      " [2][1]:- 3\n",
      " [2][2]:- 4\n",
      "\n",
      "\n",
      "1.0 2.0 \n",
      "\n",
      "3.0 4.0 \n",
      "\n",
      "Sum of two matrices is \n",
      "\n",
      "\n",
      "2.0 4.0 \n",
      "\n",
      "5.0 8.0 \n",
      "\n"
     ]
    }
   ],
   "source": [
    "def printMat(A,row,column):                     #Function to print matrices \n",
    "    print(\"\\n\")\n",
    "    for i in range(row):\n",
    "        for j in range(column):\n",
    "            print(A[i][j],end=\" \")\n",
    "        print(\"\\n\")\n",
    "\n",
    "def matDec(row,column):                       #Function to take imput matrix\n",
    "    mat_a = []\n",
    "    for i in range(row):\n",
    "        a = []\n",
    "        for j in range(column):\n",
    "            a.append(float(input(\" [{}][{}]:- \".format(i+1,j+1))))\n",
    "        mat_a.append(a)\n",
    "    return mat_a   \n",
    "\n",
    "\n",
    "ma = int(input(\"Enter number of Rows in matrix A:- \"))\n",
    "na = int(input(\"Enter number of columns in matrix A:- \"))\n",
    "\n",
    "mat_a = matDec(ma,na)\n",
    "printMat(mat_a,ma,na)\n",
    " \n",
    "\n",
    "\n",
    "mb = int(input(\"Enter number of Rows in matrix B:- \"))\n",
    "nb = int(input(\"Enter number of columns in matrix B:- \"))\n",
    "\n",
    "mat_b = matDec(mb,nb)   \n",
    "printMat(mat_b,mb,nb)\n",
    "    \n",
    "sumi = []   \n",
    "if ma==mb and na==nb:\n",
    "     for i in range(ma):\n",
    "            b = []\n",
    "            for j in range(na):\n",
    "                temp  = mat_a[i][j] + mat_b[i][j]\n",
    "                b.append(temp)\n",
    "            sumi.append(b)\n",
    "       \n",
    "        \n",
    "else:\n",
    "    print(\"Order of matrix is not same \")\n",
    "print(\"Sum of two matrices is \")\n",
    "printMat(sumi,ma,na)\n",
    " \n",
    "        "
   ]
  },
  {
   "cell_type": "markdown",
   "id": "tribal-addiction",
   "metadata": {},
   "source": [
    "2.\tWrite a Python Program to Multiply Two Matrices?"
   ]
  },
  {
   "cell_type": "code",
   "execution_count": 12,
   "id": "animal-seeking",
   "metadata": {},
   "outputs": [
    {
     "name": "stdout",
     "output_type": "stream",
     "text": [
      "Enter number of Rows in matrix A:- 2\n",
      "Enter number of columns in matrix A:- 2\n",
      " [1][1]:- 1\n",
      " [1][2]:- 2\n",
      " [2][1]:- 3\n",
      " [2][2]:- 4\n",
      "\n",
      "\n",
      "1.0 2.0 \n",
      "\n",
      "3.0 4.0 \n",
      "\n",
      "Enter number of Rows in matrix B:- 2\n",
      "Enter number of columns in matrix B:- 2\n",
      " [1][1]:- 1\n",
      " [1][2]:- 2\n",
      " [2][1]:- 3\n",
      " [2][2]:- 4\n",
      "\n",
      "\n",
      "1.0 2.0 \n",
      "\n",
      "3.0 4.0 \n",
      "\n",
      "Multipication of two matrices is \n",
      "\n",
      "\n",
      "7.0 10.0 \n",
      "\n",
      "15.0 22.0 \n",
      "\n"
     ]
    }
   ],
   "source": [
    "\n",
    "ma = int(input(\"Enter number of Rows in matrix A:- \"))\n",
    "na = int(input(\"Enter number of columns in matrix A:- \"))\n",
    "\n",
    "mat_a = matDec(ma,na)\n",
    "printMat(mat_a,ma,na)\n",
    "\n",
    "mb = int(input(\"Enter number of Rows in matrix B:- \"))\n",
    "nb = int(input(\"Enter number of columns in matrix B:- \"))\n",
    "\n",
    "mat_b = matDec(mb,nb)   \n",
    "printMat(mat_b,mb,nb)\n",
    "\n",
    "ans = [[0 for i in range(ma)] for j in range(nb)]\n",
    "        \n",
    "    \n",
    "if na == mb:\n",
    "    for i in range(ma):\n",
    "        for j in range(nb):\n",
    "            for k in range(mb):\n",
    "                ans[i][j] += mat_a[i][k] * mat_b[k][j]\n",
    "                \n",
    "else:\n",
    "    print(\"Invalid operation \")\n",
    "\n",
    "print(\"Multipication of two matrices is \") \n",
    "printMat(ans,ma,nb)\n",
    "\n",
    " \n",
    "        \n"
   ]
  },
  {
   "cell_type": "markdown",
   "id": "potential-filter",
   "metadata": {},
   "source": [
    "3.\tWrite a Python Program to Transpose a Matrix?"
   ]
  },
  {
   "cell_type": "code",
   "execution_count": 15,
   "id": "bizarre-packing",
   "metadata": {},
   "outputs": [
    {
     "name": "stdout",
     "output_type": "stream",
     "text": [
      "Enter number of Rows in matrix A:- 2\n",
      "Enter number of columns in matrix A:- 2\n",
      " [1][1]:- 1\n",
      " [1][2]:- 2\n",
      " [2][1]:- 2\n",
      " [2][2]:- 4\n",
      "\n",
      "\n",
      "1.0 2.0 \n",
      "\n",
      "2.0 4.0 \n",
      "\n",
      "Transpose of matrix is \n",
      "\n",
      "\n",
      "1.0 2.0 \n",
      "\n",
      "2.0 4.0 \n",
      "\n"
     ]
    }
   ],
   "source": [
    "ma = int(input(\"Enter number of Rows in matrix A:- \"))\n",
    "na = int(input(\"Enter number of columns in matrix A:- \"))\n",
    "\n",
    "mat_a = matDec(ma,na)\n",
    "printMat(mat_a,ma,na)\n",
    " \n",
    "trans = [[0 for i in range(ma)] for j in range(na)]\n",
    " \n",
    "for i in range(na):\n",
    "    for j in range(ma):\n",
    "        trans[i][j] = mat_a[j][i]\n",
    "print(\"Transpose of matrix is \")   \n",
    "printMat(trans,na,ma)"
   ]
  },
  {
   "cell_type": "markdown",
   "id": "binding-antenna",
   "metadata": {},
   "source": [
    "4.\tWrite a Python Program to Sort Words in Alphabetic Order?"
   ]
  },
  {
   "cell_type": "code",
   "execution_count": 15,
   "id": "geological-window",
   "metadata": {},
   "outputs": [
    {
     "name": "stdout",
     "output_type": "stream",
     "text": [
      "Enter Words :-This is an example of sorted words\n",
      "Sorted words is as follows :-\n",
      "['an', 'example', 'is', 'of', 'sorted', 'this', 'words']\n"
     ]
    }
   ],
   "source": [
    "n = input(\"Enter Words :-\")\n",
    "n = n.lower()\n",
    "n = list(n.split())\n",
    "ans = n.sort()\n",
    " \n",
    "print(\"Sorted words is as follows :-\")\n",
    "print(n)\n"
   ]
  },
  {
   "cell_type": "markdown",
   "id": "legal-company",
   "metadata": {},
   "source": [
    "5.\tWrite a Python Program to Remove Punctuation From a String?"
   ]
  },
  {
   "cell_type": "code",
   "execution_count": 19,
   "id": "responsible-robin",
   "metadata": {},
   "outputs": [
    {
     "name": "stdout",
     "output_type": "stream",
     "text": [
      "Enter String :-Shubham @ Wasnik\n",
      "The original string is : Shubham @ Wasnik\n",
      "The string after punctuation removal is : Shubham  Wasnik\n"
     ]
    }
   ],
   "source": [
    "n = input(\"Enter String :-\") \n",
    "print(\"The original string is : \" + n)\n",
    "punctuation = \"!()-[]{};:,/<>./?@#\"\n",
    "for word in n:\n",
    "    if word in punctuation:\n",
    "        n = n.replace(word, \"\")\n",
    "print(\"The string after punctuation removal is : \" + n)\n"
   ]
  },
  {
   "cell_type": "code",
   "execution_count": 9,
   "id": "optimum-probe",
   "metadata": {},
   "outputs": [
    {
     "data": {
      "text/plain": [
       "2"
      ]
     },
     "execution_count": 9,
     "metadata": {},
     "output_type": "execute_result"
    }
   ],
   "source": [
    " \n"
   ]
  },
  {
   "cell_type": "code",
   "execution_count": null,
   "id": "visible-satellite",
   "metadata": {},
   "outputs": [],
   "source": [
    " "
   ]
  },
  {
   "cell_type": "code",
   "execution_count": null,
   "id": "orange-ceiling",
   "metadata": {},
   "outputs": [],
   "source": []
  }
 ],
 "metadata": {
  "kernelspec": {
   "display_name": "Python 3",
   "language": "python",
   "name": "python3"
  },
  "language_info": {
   "codemirror_mode": {
    "name": "ipython",
    "version": 3
   },
   "file_extension": ".py",
   "mimetype": "text/x-python",
   "name": "python",
   "nbconvert_exporter": "python",
   "pygments_lexer": "ipython3",
   "version": "3.7.10"
  }
 },
 "nbformat": 4,
 "nbformat_minor": 5
}

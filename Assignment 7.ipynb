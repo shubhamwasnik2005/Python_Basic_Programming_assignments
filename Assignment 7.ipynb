{
 "cells": [
  {
   "cell_type": "markdown",
   "id": "lesbian-immune",
   "metadata": {},
   "source": [
    "                                Assignment 7\n",
    " 1.\tWrite a Python Program to find sum of array?"
   ]
  },
  {
   "cell_type": "code",
   "execution_count": 10,
   "id": "eastern-there",
   "metadata": {},
   "outputs": [
    {
     "name": "stdout",
     "output_type": "stream",
     "text": [
      "Enter number of elements in array :- 5\n",
      "1\n",
      "2\n",
      "3\n",
      "4\n",
      "5\n",
      "Sum of array is 15\n"
     ]
    }
   ],
   "source": [
    "n = int(input(\"Enter number of elements in array :- \"))\n",
    "l=[]\n",
    "sume = 0\n",
    "for i in range(n):\n",
    "    l.append(int(input()))\n",
    "    sume = sume + l[i]\n",
    "\n",
    "print(\"Sum of array is {}\".format(sume))\n"
   ]
  },
  {
   "cell_type": "markdown",
   "id": "anonymous-liabilities",
   "metadata": {},
   "source": [
    "2.\tWrite a Python Program to find largest element in an array?"
   ]
  },
  {
   "cell_type": "code",
   "execution_count": 13,
   "id": "grateful-milan",
   "metadata": {},
   "outputs": [
    {
     "name": "stdout",
     "output_type": "stream",
     "text": [
      "Enter number of elements in array :- 6\n",
      "1\n",
      "8\n",
      "9\n",
      "100\n",
      "36\n",
      "4\n",
      "Maximum of array is 100 \n"
     ]
    }
   ],
   "source": [
    "n = int(input(\"Enter number of elements in array :- \"))\n",
    "l=[]\n",
    "maxi = -1\n",
    "for i in range(n):\n",
    "    l.append(int(input()))\n",
    "\n",
    "for i in range(n):\n",
    "    if l[i]>=maxi:\n",
    "        maxi = l[i]\n",
    "        \n",
    "print(\"Maximum of array is {} \".format(maxi))\n",
    "    "
   ]
  },
  {
   "cell_type": "markdown",
   "id": "demonstrated-egypt",
   "metadata": {},
   "source": [
    "3.\tWrite a Python Program for array rotation?"
   ]
  },
  {
   "cell_type": "code",
   "execution_count": 7,
   "id": "friendly-digest",
   "metadata": {},
   "outputs": [
    {
     "name": "stdout",
     "output_type": "stream",
     "text": [
      "Enter number of elements in array :- 5\n",
      "Enter number by which the array should be roatated :- 3\n",
      "1\n",
      "2\n",
      "3\n",
      "4\n",
      "5\n",
      "Rotated array is [4, 5, 1, 2, 3]\n"
     ]
    }
   ],
   "source": [
    "n = int(input(\"Enter number of elements in array :- \"))\n",
    "d = int(input(\"Enter number by which the array should be roatated :- \"))\n",
    "l=[]\n",
    "for i in range(n):\n",
    "    l.append(int(input()))\n",
    "en = l[:d]\n",
    "st = l[d:]\n",
    "rotated_array = st+en\n",
    "print(\"Rotated array is {}\".format(rotated_array))"
   ]
  },
  {
   "cell_type": "markdown",
   "id": "healthy-champagne",
   "metadata": {},
   "source": [
    "4.\tWrite a Python Program to Split the array and add the first part to the end?"
   ]
  },
  {
   "cell_type": "code",
   "execution_count": 14,
   "id": "assigned-canadian",
   "metadata": {},
   "outputs": [
    {
     "name": "stdout",
     "output_type": "stream",
     "text": [
      "Enter number of elements in array :- 5\n",
      "1\n",
      "2\n",
      "3\n",
      "4\n",
      "5\n",
      "[4, 5, 1, 2, 3]\n"
     ]
    }
   ],
   "source": [
    "n = int(input(\"Enter number of elements in array :- \"))\n",
    "l=[]\n",
    "for i in range(n):\n",
    "    l.append(int(input()))\n",
    "mid = n//2\n",
    "if n%2==0:\n",
    "    st = l[:(mid)]\n",
    "    en = l[-(mid):]\n",
    "else:\n",
    "    st = l[:(mid+1)]\n",
    "    en = l[-(mid):]\n",
    "l = en + st\n",
    "print(l)"
   ]
  },
  {
   "cell_type": "markdown",
   "id": "prepared-playing",
   "metadata": {},
   "source": [
    "5.\tWrite a Python Program to check if given array is Monotonic?"
   ]
  },
  {
   "cell_type": "code",
   "execution_count": 9,
   "id": "connected-appointment",
   "metadata": {},
   "outputs": [
    {
     "name": "stdout",
     "output_type": "stream",
     "text": [
      "Enter number of elements in array :- 5\n",
      "5\n",
      "7\n",
      "8\n",
      "3\n",
      "1\n",
      "Given array is not montonic\n"
     ]
    }
   ],
   "source": [
    "n = int(input(\"Enter number of elements in array :- \"))\n",
    "l=[]\n",
    "inc=1\n",
    "dec=1\n",
    "for i in range(n):\n",
    "    l.append(int(input()))\n",
    "for i in range(n-1):\n",
    "    if l[i]<=l[i+1]:\n",
    "        continue\n",
    "    else:\n",
    "        inc=0\n",
    "for i in range(n-1):\n",
    "    if l[i]>=l[i+1]:\n",
    "        continue\n",
    "    else:\n",
    "        dec=0\n",
    "if inc==1 or dec==1:\n",
    "    print(\"Given array is monotonic\")\n",
    "else:\n",
    "    print(\"Given array is not montonic\")\n",
    "\n",
    "    \n",
    "    "
   ]
  },
  {
   "cell_type": "code",
   "execution_count": null,
   "id": "anticipated-conducting",
   "metadata": {},
   "outputs": [],
   "source": []
  }
 ],
 "metadata": {
  "kernelspec": {
   "display_name": "Python 3",
   "language": "python",
   "name": "python3"
  },
  "language_info": {
   "codemirror_mode": {
    "name": "ipython",
    "version": 3
   },
   "file_extension": ".py",
   "mimetype": "text/x-python",
   "name": "python",
   "nbconvert_exporter": "python",
   "pygments_lexer": "ipython3",
   "version": "3.7.10"
  }
 },
 "nbformat": 4,
 "nbformat_minor": 5
}

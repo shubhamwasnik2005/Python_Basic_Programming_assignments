{
 "cells": [
  {
   "cell_type": "markdown",
   "id": "quarterly-wyoming",
   "metadata": {},
   "source": [
    "                                Assignment 5\n",
    "1) Write a Python Program to Find LCM?"
   ]
  },
  {
   "cell_type": "code",
   "execution_count": 2,
   "id": "respective-nickname",
   "metadata": {},
   "outputs": [
    {
     "name": "stdout",
     "output_type": "stream",
     "text": [
      "Enter First number :- 25\n",
      "Enter Second number :- 50\n",
      "LCM of 25 and 50 is 50\n"
     ]
    }
   ],
   "source": [
    "n1 = int(input(\"Enter First number :- \"))\n",
    "n2 = int(input(\"Enter Second number :- \"))\n",
    "\n",
    "if n1>n2:\n",
    "    gre = n1\n",
    "else:\n",
    "    gre = n2\n",
    "\n",
    "while(True):\n",
    "    if (gre%n1==0 and gre%n2==0):\n",
    "        LCM = gre\n",
    "        break\n",
    "    gre = gre + 1\n",
    "    \n",
    "print(\"LCM of {} and {} is {}\".format(n1,n2,LCM))\n",
    "\n",
    "\n"
   ]
  },
  {
   "cell_type": "markdown",
   "id": "successful-dover",
   "metadata": {},
   "source": [
    "2) Write a Python Program to Find HCF?"
   ]
  },
  {
   "cell_type": "code",
   "execution_count": 3,
   "id": "other-seminar",
   "metadata": {},
   "outputs": [
    {
     "name": "stdout",
     "output_type": "stream",
     "text": [
      "Enter First number :- 54\n",
      "Enter Second number :- 24\n",
      "HCF of 54 and 24 is 6\n"
     ]
    }
   ],
   "source": [
    "n1 = int(input(\"Enter First number :- \"))\n",
    "n2 = int(input(\"Enter Second number :- \"))\n",
    "\n",
    "if n1>n2:\n",
    "    les = n2\n",
    "else:\n",
    "    les = n1\n",
    "\n",
    "for i in range(1,les+1):\n",
    "    if ((n1%i==0) and (n2%i==0)):\n",
    "        HCF = i\n",
    "        \n",
    "print(\"HCF of {} and {} is {}\".format(n1,n2,HCF))\n"
   ]
  },
  {
   "cell_type": "markdown",
   "id": "abandoned-benefit",
   "metadata": {},
   "source": [
    "3) Write a Python Program to Convert Decimal to Binary, Octal and Hexadecimal?"
   ]
  },
  {
   "cell_type": "code",
   "execution_count": 15,
   "id": "initial-struggle",
   "metadata": {},
   "outputs": [
    {
     "name": "stdout",
     "output_type": "stream",
     "text": [
      "Enter number 10\n",
      "Binary of 10 is 1010\n",
      "Octal of 10 is 12\n",
      "Hexadecimal of 10 is a\n"
     ]
    }
   ],
   "source": [
    "n = int(input(\"Enter number \"))\n",
    "print(\"Binary of {} is {}\".format(n,bin(n).replace(\"0b\", \"\")))\n",
    "print(\"Octal of {} is {}\".format(n,oct(n).replace(\"0o\", \"\")))\n",
    "print(\"Hexadecimal of {} is {}\".format(n,hex(n).replace(\"0x\", \"\")))\n",
    "\n"
   ]
  },
  {
   "cell_type": "markdown",
   "id": "phantom-geometry",
   "metadata": {},
   "source": [
    "4) Write a Python Program To Find ASCII value of a character?"
   ]
  },
  {
   "cell_type": "code",
   "execution_count": 6,
   "id": "acquired-gardening",
   "metadata": {},
   "outputs": [
    {
     "name": "stdout",
     "output_type": "stream",
     "text": [
      "Enter any character or string :-Shubham\n",
      "ASCII value of character S is 83\n",
      "ASCII value of character h is 104\n",
      "ASCII value of character u is 117\n",
      "ASCII value of character b is 98\n",
      "ASCII value of character h is 104\n",
      "ASCII value of character a is 97\n",
      "ASCII value of character m is 109\n"
     ]
    }
   ],
   "source": [
    "c = input(\"Enter any character or string :-\")\n",
    "for i in c:\n",
    "    print(\"ASCII value of character {} is {}\".format(i,ord(i)))"
   ]
  },
  {
   "cell_type": "markdown",
   "id": "danish-honduras",
   "metadata": {},
   "source": [
    "5) Write a Python Program to Make a Simple Calculator with 4 basic mathematical operations?"
   ]
  },
  {
   "cell_type": "code",
   "execution_count": 11,
   "id": "english-mauritius",
   "metadata": {},
   "outputs": [
    {
     "name": "stdout",
     "output_type": "stream",
     "text": [
      "Enter Expression :- 6-3\n",
      "3\n"
     ]
    }
   ],
   "source": [
    "n = input(\"Enter Expression :- \")\n",
    "if '+' in n:\n",
    "    n = n.split(\"+\")\n",
    "    print(int(n[0])+int(n[1]))\n",
    "elif '-' in n:\n",
    "    n = n.split(\"-\")\n",
    "    print(int(n[0])-int(n[1]))\n",
    "elif '*' in n:\n",
    "    n = n.split(\"*\")\n",
    "    print(int(n[0])*int(n[1]))\n",
    "else:\n",
    "    n = n.split(\"/\")\n",
    "    print(int(n[0])/int(n[1]))\n",
    "    \n"
   ]
  },
  {
   "cell_type": "code",
   "execution_count": null,
   "id": "incident-ethernet",
   "metadata": {},
   "outputs": [],
   "source": []
  }
 ],
 "metadata": {
  "kernelspec": {
   "display_name": "Python 3",
   "language": "python",
   "name": "python3"
  },
  "language_info": {
   "codemirror_mode": {
    "name": "ipython",
    "version": 3
   },
   "file_extension": ".py",
   "mimetype": "text/x-python",
   "name": "python",
   "nbconvert_exporter": "python",
   "pygments_lexer": "ipython3",
   "version": "3.7.10"
  }
 },
 "nbformat": 4,
 "nbformat_minor": 5
}

{
 "cells": [
  {
   "cell_type": "markdown",
   "id": "silver-translator",
   "metadata": {},
   "source": [
    "                                                   Assignment 6\n",
    " \n",
    "  1.\tWrite a Python Program to Display Fibonacci Sequence Using Recursion?                                                "
   ]
  },
  {
   "cell_type": "code",
   "execution_count": 10,
   "id": "exact-shopping",
   "metadata": {},
   "outputs": [
    {
     "name": "stdout",
     "output_type": "stream",
     "text": [
      "Enter number to find fibonacci sequence - 4\n",
      "1\n",
      "1\n",
      "2\n",
      "3\n"
     ]
    }
   ],
   "source": [
    "def fibo(n):\n",
    "    if n<0:\n",
    "        print(\"Incorrect input\")\n",
    "    elif n==0:\n",
    "        return\n",
    "    elif n==1 or n==2:\n",
    "        return 1\n",
    "    else:\n",
    "        return fibo(n-1)+fibo(n-2)\n",
    "    \n",
    "n = int(input(\"Enter number to find fibonacci sequence - \"))\n",
    "for i in range(1,n+1):\n",
    "    print(fibo(i))"
   ]
  },
  {
   "cell_type": "markdown",
   "id": "supposed-providence",
   "metadata": {},
   "source": [
    "2.\tWrite a Python Program to Find Factorial of Number Using Recursion?"
   ]
  },
  {
   "cell_type": "code",
   "execution_count": 1,
   "id": "moderate-outreach",
   "metadata": {},
   "outputs": [
    {
     "name": "stdout",
     "output_type": "stream",
     "text": [
      "Enter number -5\n",
      "Factorial of 5 is 120\n"
     ]
    }
   ],
   "source": [
    "def facto(n):\n",
    "    if n == 1:\n",
    "        return 1\n",
    "    return (n*facto(n-1))\n",
    "\n",
    "n = int(input(\"Enter number -\"))\n",
    "print(\"Factorial of {} is {}\".format(n,facto(n)))\n"
   ]
  },
  {
   "cell_type": "markdown",
   "id": "handled-horse",
   "metadata": {},
   "source": [
    "3.\tWrite a Python Program to calculate your Body Mass Index?"
   ]
  },
  {
   "cell_type": "code",
   "execution_count": 2,
   "id": "egyptian-upset",
   "metadata": {},
   "outputs": [
    {
     "name": "stdout",
     "output_type": "stream",
     "text": [
      "Enter height in cm - 152\n",
      "Enter weight in kg - 60\n",
      "Your BMI is 25.969529085872576\n"
     ]
    }
   ],
   "source": [
    "ht = float(input(\"Enter height in cm - \"))\n",
    "ht = ht / 100\n",
    "wt = float(input(\"Enter weight in kg - \"))\n",
    "BMI = wt/ht**2\n",
    "print(\"Your BMI is {}\".format(BMI))"
   ]
  },
  {
   "cell_type": "markdown",
   "id": "unable-harvest",
   "metadata": {},
   "source": [
    "4.\tWrite a Python Program to calculate the natural logarithm of any number?"
   ]
  },
  {
   "cell_type": "code",
   "execution_count": 8,
   "id": "consecutive-cable",
   "metadata": {},
   "outputs": [
    {
     "name": "stdout",
     "output_type": "stream",
     "text": [
      "Enter number - 5\n",
      "1.6094379124341003\n"
     ]
    }
   ],
   "source": [
    "import numpy as np\n",
    "n = int(input(\"Enter number - \"))\n",
    "log_ans = np.log(n) \n",
    "print(log_ans)\n"
   ]
  },
  {
   "cell_type": "markdown",
   "id": "gothic-collection",
   "metadata": {},
   "source": [
    "5.\tWrite a Python Program for cube sum of first n natural numbers?"
   ]
  },
  {
   "cell_type": "code",
   "execution_count": 5,
   "id": "significant-apparatus",
   "metadata": {},
   "outputs": [
    {
     "name": "stdout",
     "output_type": "stream",
     "text": [
      "Enter number - 11\n",
      "Cube sum of first n natural number is 4356.0\n"
     ]
    }
   ],
   "source": [
    "n = int(input(\"Enter number - \"))\n",
    "sum = (n**2 *(n+1)**2)/4\n",
    "print(\"Cube sum of first n natural number is {}\".format(sum))"
   ]
  },
  {
   "cell_type": "code",
   "execution_count": null,
   "id": "bulgarian-kansas",
   "metadata": {},
   "outputs": [],
   "source": []
  }
 ],
 "metadata": {
  "kernelspec": {
   "display_name": "Python 3",
   "language": "python",
   "name": "python3"
  },
  "language_info": {
   "codemirror_mode": {
    "name": "ipython",
    "version": 3
   },
   "file_extension": ".py",
   "mimetype": "text/x-python",
   "name": "python",
   "nbconvert_exporter": "python",
   "pygments_lexer": "ipython3",
   "version": "3.7.10"
  }
 },
 "nbformat": 4,
 "nbformat_minor": 5
}

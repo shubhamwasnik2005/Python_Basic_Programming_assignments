{
 "cells": [
  {
   "cell_type": "markdown",
   "id": "metric-wilderness",
   "metadata": {},
   "source": [
    "                             Assignment 4\n",
    " 1) Write a Python Program to Find the Factorial of a Number?"
   ]
  },
  {
   "cell_type": "code",
   "execution_count": 10,
   "id": "outside-cologne",
   "metadata": {},
   "outputs": [
    {
     "name": "stdout",
     "output_type": "stream",
     "text": [
      "Enter number 10\n",
      "Factorial of number 10 is 3628800\n"
     ]
    }
   ],
   "source": [
    "n = int(input(\"Enter number \"))\n",
    "sum = 1\n",
    "for i in range(1,n+1):\n",
    "    sum = sum * i\n",
    "print(\"Factorial of number {} is {}\".format(n,sum))"
   ]
  },
  {
   "cell_type": "markdown",
   "id": "arbitrary-entrepreneur",
   "metadata": {},
   "source": [
    "2) Write a Python Program to Display the multiplication Table?"
   ]
  },
  {
   "cell_type": "code",
   "execution_count": 13,
   "id": "tropical-surge",
   "metadata": {},
   "outputs": [
    {
     "name": "stdout",
     "output_type": "stream",
     "text": [
      "Enter number 25\n",
      "25 x 1 = 25\n",
      "25 x 2 = 50\n",
      "25 x 3 = 75\n",
      "25 x 4 = 100\n",
      "25 x 5 = 125\n",
      "25 x 6 = 150\n",
      "25 x 7 = 175\n",
      "25 x 8 = 200\n",
      "25 x 9 = 225\n",
      "25 x 10 = 250\n"
     ]
    }
   ],
   "source": [
    "n = int(input(\"Enter number \"))\n",
    "for i in range(1,11):\n",
    "    out = i*n\n",
    "    print(\"{} x {} = {}\".format(n,i,out))"
   ]
  },
  {
   "cell_type": "markdown",
   "id": "dutch-bicycle",
   "metadata": {},
   "source": [
    "3) Write a Python Program to Print the Fibonacci sequence?"
   ]
  },
  {
   "cell_type": "code",
   "execution_count": 18,
   "id": "complicated-bangladesh",
   "metadata": {},
   "outputs": [
    {
     "name": "stdout",
     "output_type": "stream",
     "text": [
      "Enter number elements of Fibonacci series25\n",
      "First 25 fibonacci series numbers are as follows\n",
      "0\n",
      "1\n",
      "1\n",
      "2\n",
      "3\n",
      "5\n",
      "8\n",
      "13\n",
      "21\n",
      "34\n",
      "55\n",
      "89\n",
      "144\n",
      "233\n",
      "377\n",
      "610\n",
      "987\n",
      "1597\n",
      "2584\n",
      "4181\n",
      "6765\n",
      "10946\n",
      "17711\n",
      "28657\n",
      "46368\n",
      "75025\n"
     ]
    }
   ],
   "source": [
    "n = int(input(\"Enter number elements of Fibonacci series \"))\n",
    "a = 0\n",
    "b = 1\n",
    "print(\"First {} fibonacci series numbers are as follows\".format(n))\n",
    "print(a)\n",
    "print(b)\n",
    "ans = 0\n",
    "for i in range(n-1):\n",
    "    ans = a + b\n",
    "    print(ans)\n",
    "    a = b\n",
    "    b = ans\n",
    "\n",
    "      "
   ]
  },
  {
   "cell_type": "markdown",
   "id": "first-winter",
   "metadata": {},
   "source": [
    "4) Write a Python Program to Check Armstrong Number?"
   ]
  },
  {
   "cell_type": "code",
   "execution_count": 26,
   "id": "solid-metallic",
   "metadata": {},
   "outputs": [
    {
     "name": "stdout",
     "output_type": "stream",
     "text": [
      "Enter number 9\n",
      "Given number is amstrong number\n"
     ]
    }
   ],
   "source": [
    "n = int(input(\"Enter number \"))\n",
    "ori = n\n",
    "temp = n\n",
    "count = 0\n",
    "while n!=0:\n",
    "    n = n // 10\n",
    "    count = count + 1\n",
    "su = 0\n",
    "for i in range(count):\n",
    "    su = su + (temp%10)**count\n",
    "    temp = temp//10\n",
    "\n",
    "if ori==su:\n",
    "    print(\"Given number is amstrong number\")\n",
    "else:\n",
    "    print(\"Given number is not a amstrong number\")\n",
    "    \n",
    "    "
   ]
  },
  {
   "cell_type": "markdown",
   "id": "injured-hamburg",
   "metadata": {},
   "source": [
    "5) Write a Python Program to Find Armstrong Number in an Interval?"
   ]
  },
  {
   "cell_type": "code",
   "execution_count": 27,
   "id": "awful-intensity",
   "metadata": {},
   "outputs": [
    {
     "name": "stdout",
     "output_type": "stream",
     "text": [
      "Enter starting point 0\n",
      "Enter ending point 500\n",
      "0\n",
      "1\n",
      "2\n",
      "3\n",
      "4\n",
      "5\n",
      "6\n",
      "7\n",
      "8\n",
      "9\n",
      "153\n",
      "370\n",
      "371\n",
      "407\n"
     ]
    }
   ],
   "source": [
    "st = int(input(\"Enter starting point \"))\n",
    "en = int(input(\"Enter ending point \"))\n",
    "for i in range(st,en+1):\n",
    "    ori = i\n",
    "    temp = i\n",
    "    count = 0\n",
    "    while i!=0:\n",
    "        i = i // 10\n",
    "        count = count + 1\n",
    "    su = 0\n",
    "    for i in range(count):\n",
    "        su = su + (temp%10)**count\n",
    "        temp = temp//10\n",
    "\n",
    "    if ori==su:\n",
    "        print(ori)\n",
    "    \n",
    "    \n",
    "     \n",
    "    \n",
    "\n"
   ]
  },
  {
   "cell_type": "markdown",
   "id": "delayed-writer",
   "metadata": {},
   "source": [
    "6) Write a Python Program to Find the Sum of Natural Numbers?"
   ]
  },
  {
   "cell_type": "code",
   "execution_count": 28,
   "id": "silent-hardwood",
   "metadata": {},
   "outputs": [
    {
     "name": "stdout",
     "output_type": "stream",
     "text": [
      "Enter number 100\n",
      "Sum of number is 5050.0\n"
     ]
    }
   ],
   "source": [
    "n = int(input(\"Enter number \"))\n",
    "s = n*(n+1)/2\n",
    "print(\"Sum of number is {}\".format(s))"
   ]
  },
  {
   "cell_type": "code",
   "execution_count": null,
   "id": "accessory-roberts",
   "metadata": {},
   "outputs": [],
   "source": [
    " "
   ]
  },
  {
   "cell_type": "code",
   "execution_count": null,
   "id": "previous-observation",
   "metadata": {},
   "outputs": [],
   "source": [
    " "
   ]
  },
  {
   "cell_type": "code",
   "execution_count": null,
   "id": "suspected-mistress",
   "metadata": {},
   "outputs": [],
   "source": [
    " "
   ]
  }
 ],
 "metadata": {
  "kernelspec": {
   "display_name": "Python 3",
   "language": "python",
   "name": "python3"
  },
  "language_info": {
   "codemirror_mode": {
    "name": "ipython",
    "version": 3
   },
   "file_extension": ".py",
   "mimetype": "text/x-python",
   "name": "python",
   "nbconvert_exporter": "python",
   "pygments_lexer": "ipython3",
   "version": "3.7.10"
  }
 },
 "nbformat": 4,
 "nbformat_minor": 5
}

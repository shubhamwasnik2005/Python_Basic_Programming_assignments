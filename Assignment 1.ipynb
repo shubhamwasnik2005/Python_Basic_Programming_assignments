{
 "cells": [
  {
   "cell_type": "markdown",
   "id": "ambient-scheduling",
   "metadata": {},
   "source": [
    "                                                       Assignment 1\n",
    " Que 1. Write a python program to print \"Hello Python\"?"
   ]
  },
  {
   "cell_type": "code",
   "execution_count": 1,
   "id": "blessed-finger",
   "metadata": {},
   "outputs": [
    {
     "name": "stdout",
     "output_type": "stream",
     "text": [
      "Hello Python\n"
     ]
    }
   ],
   "source": [
    "print(\"Hello Python\")"
   ]
  },
  {
   "cell_type": "markdown",
   "id": "scientific-baseline",
   "metadata": {},
   "source": [
    "Que 2. Write a Python program to do arithmetical operations addition and division.?"
   ]
  },
  {
   "cell_type": "code",
   "execution_count": 2,
   "id": "designing-division",
   "metadata": {},
   "outputs": [
    {
     "name": "stdout",
     "output_type": "stream",
     "text": [
      "Enter number A 25\n",
      "Enter number B 23\n",
      "Addition of two numbers is  48\n",
      "Division of two number is  1.0869565217391304\n"
     ]
    }
   ],
   "source": [
    "a = int(input(\"Enter number A \"))\n",
    "b = int(input(\"Enter number B \"))\n",
    "print(\"Addition of two numbers is \", a+b)\n",
    " \n",
    "print(\"Division of two number is \",a/b)"
   ]
  },
  {
   "cell_type": "markdown",
   "id": "suffering-touch",
   "metadata": {},
   "source": [
    "Que 3. Write a Python program to find the area of a triangle?"
   ]
  },
  {
   "cell_type": "code",
   "execution_count": 4,
   "id": "relative-report",
   "metadata": {},
   "outputs": [
    {
     "name": "stdout",
     "output_type": "stream",
     "text": [
      "Enter base of triangle in meter 5\n",
      "Enter height of triangle in meter 5\n",
      "Area of triangle is 12.5 sq.m\n"
     ]
    }
   ],
   "source": [
    "b = int(input(\"Enter base of triangle in meter \"))\n",
    "h = int(input(\"Enter height of triangle in meter \"))\n",
    "area  = 0.5 * b * h\n",
    "print(\"Area of triangle is {} sq.m\".format(area))"
   ]
  },
  {
   "cell_type": "markdown",
   "id": "powered-xerox",
   "metadata": {},
   "source": [
    "Que 4. Write a Python program to swap two variables?"
   ]
  },
  {
   "cell_type": "code",
   "execution_count": 9,
   "id": "obvious-church",
   "metadata": {},
   "outputs": [
    {
     "name": "stdout",
     "output_type": "stream",
     "text": [
      "Enter first number 5\n",
      "Enter second number 6\n",
      "Number stored in variable before swaping \n",
      " a = 5 and b = 6\n",
      "Number stored after swaping is \n",
      " a = 6  b = 5\n"
     ]
    }
   ],
   "source": [
    "a = int(input(\"Enter first number \"))\n",
    "b = int(input(\"Enter second number \"))\n",
    "print(\"Number stored in variable before swaping \\n a = {} and b = {}\".format(a,b))\n",
    "temp = b\n",
    "b = a\n",
    "a = temp\n",
    "print(\"Number stored after swaping is \\n a = {}  b = {}\".format(a,b))"
   ]
  },
  {
   "cell_type": "markdown",
   "id": "dimensional-coupon",
   "metadata": {},
   "source": [
    "Que 5. Write a Python program to generate a random number?"
   ]
  },
  {
   "cell_type": "code",
   "execution_count": 13,
   "id": "packed-authorization",
   "metadata": {},
   "outputs": [
    {
     "name": "stdout",
     "output_type": "stream",
     "text": [
      "0.19355061493243741\n"
     ]
    }
   ],
   "source": [
    "import random\n",
    "n = random.random()\n",
    "print(n)"
   ]
  },
  {
   "cell_type": "code",
   "execution_count": 15,
   "id": "established-airplane",
   "metadata": {},
   "outputs": [
    {
     "name": "stdout",
     "output_type": "stream",
     "text": [
      "10\n"
     ]
    }
   ],
   "source": [
    "m = random.randint(0,25)\n",
    "print(m)"
   ]
  },
  {
   "cell_type": "code",
   "execution_count": null,
   "id": "wooden-dealing",
   "metadata": {},
   "outputs": [],
   "source": []
  }
 ],
 "metadata": {
  "kernelspec": {
   "display_name": "Python 3",
   "language": "python",
   "name": "python3"
  },
  "language_info": {
   "codemirror_mode": {
    "name": "ipython",
    "version": 3
   },
   "file_extension": ".py",
   "mimetype": "text/x-python",
   "name": "python",
   "nbconvert_exporter": "python",
   "pygments_lexer": "ipython3",
   "version": "3.7.10"
  }
 },
 "nbformat": 4,
 "nbformat_minor": 5
}

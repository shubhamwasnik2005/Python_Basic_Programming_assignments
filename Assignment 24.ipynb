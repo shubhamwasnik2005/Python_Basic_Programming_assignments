{
 "cells": [
  {
   "cell_type": "markdown",
   "id": "ordinary-embassy",
   "metadata": {},
   "source": [
    "                               Assignemnt 24"
   ]
  },
  {
   "cell_type": "markdown",
   "id": "adjacent-abuse",
   "metadata": {},
   "source": [
    "Question1\n",
    "Create a function that takes an integer and returns a list from 1 to the given number, where:\n",
    "1. If the number can be divided evenly by 4, amplify it by 10 (i.e. return 10 times the\n",
    "number).\n",
    "2. If the number cannot be divided evenly by 4, simply return the number."
   ]
  },
  {
   "cell_type": "code",
   "execution_count": 7,
   "id": "spatial-router",
   "metadata": {},
   "outputs": [],
   "source": [
    "def amplify(n):\n",
    "    ans = []\n",
    "    for i in range(1,n+1):\n",
    "        if i%4==0:\n",
    "            ans.append(i*10)\n",
    "        else:\n",
    "            ans.append(i)\n",
    "    return ans"
   ]
  },
  {
   "cell_type": "code",
   "execution_count": 10,
   "id": "dried-alberta",
   "metadata": {},
   "outputs": [
    {
     "name": "stdout",
     "output_type": "stream",
     "text": [
      "[1, 2, 3, 40]\n"
     ]
    }
   ],
   "source": [
    "print(amplify(4))"
   ]
  },
  {
   "cell_type": "code",
   "execution_count": 11,
   "id": "separated-puzzle",
   "metadata": {},
   "outputs": [
    {
     "name": "stdout",
     "output_type": "stream",
     "text": [
      "[1, 2, 3]\n"
     ]
    }
   ],
   "source": [
    "print(amplify(3))"
   ]
  },
  {
   "cell_type": "code",
   "execution_count": 12,
   "id": "acceptable-stamp",
   "metadata": {},
   "outputs": [
    {
     "name": "stdout",
     "output_type": "stream",
     "text": [
      "[1, 2, 3, 40, 5, 6, 7, 80, 9, 10, 11, 120, 13, 14, 15, 160, 17, 18, 19, 200, 21, 22, 23, 240, 25]\n"
     ]
    }
   ],
   "source": [
    "print(amplify(25))"
   ]
  },
  {
   "cell_type": "markdown",
   "id": "shaped-klein",
   "metadata": {},
   "source": [
    "Question2\n",
    "Create a function that takes a list of numbers and return the number that&#39;s unique."
   ]
  },
  {
   "cell_type": "code",
   "execution_count": 15,
   "id": "secret-handy",
   "metadata": {},
   "outputs": [],
   "source": [
    "def unique(l):\n",
    "    d = {}\n",
    "    for i in l:\n",
    "        if i in d:\n",
    "            d[i] = d[i]+1\n",
    "        else:\n",
    "            d[i] = 0\n",
    "    for i in d:\n",
    "        if d[i] == 0:\n",
    "            return i"
   ]
  },
  {
   "cell_type": "code",
   "execution_count": 17,
   "id": "aerial-processing",
   "metadata": {},
   "outputs": [
    {
     "name": "stdout",
     "output_type": "stream",
     "text": [
      "7\n"
     ]
    }
   ],
   "source": [
    "print(unique([3,3,3,7,3,3]))"
   ]
  },
  {
   "cell_type": "code",
   "execution_count": 18,
   "id": "animated-november",
   "metadata": {},
   "outputs": [
    {
     "name": "stdout",
     "output_type": "stream",
     "text": [
      "0.77\n"
     ]
    }
   ],
   "source": [
    "print(unique([0,0,0.77,0,0]))"
   ]
  },
  {
   "cell_type": "code",
   "execution_count": 19,
   "id": "juvenile-walnut",
   "metadata": {},
   "outputs": [
    {
     "name": "stdout",
     "output_type": "stream",
     "text": [
      "0\n"
     ]
    }
   ],
   "source": [
    "print(unique([0,1,1,1,1,1,1,1]))"
   ]
  },
  {
   "cell_type": "markdown",
   "id": "interior-dealer",
   "metadata": {},
   "source": [
    "Question3\n",
    "Your task is to create a Circle constructor that creates a circle with a radius provided by an\n",
    "argument. The circles constructed must have two getters getArea() (PIr^2) and\n",
    "getPerimeter() (2PI*r) which give both respective areas and perimeter (circumference).\n",
    "\n",
    "For help with this class, I have provided you with a Rectangle constructor which you can use\n",
    "as a base example."
   ]
  },
  {
   "cell_type": "code",
   "execution_count": 6,
   "id": "intense-grill",
   "metadata": {},
   "outputs": [],
   "source": [
    "class Circle:\n",
    "    def __init__(self,r):\n",
    "        self.r = r\n",
    "    def getArea(self):\n",
    "        return 3.142*self.r*self.r\n",
    "    def getPerimeter(self):\n",
    "        return 2*3.142*self.r"
   ]
  },
  {
   "cell_type": "code",
   "execution_count": 7,
   "id": "lyric-atlanta",
   "metadata": {},
   "outputs": [
    {
     "data": {
      "text/plain": [
       "380.18199999999996"
      ]
     },
     "execution_count": 7,
     "metadata": {},
     "output_type": "execute_result"
    }
   ],
   "source": [
    "circy = Circle(11)\n",
    "circy.getArea()"
   ]
  },
  {
   "cell_type": "code",
   "execution_count": 8,
   "id": "expressed-entertainment",
   "metadata": {},
   "outputs": [
    {
     "data": {
      "text/plain": [
       "27.90096"
      ]
     },
     "execution_count": 8,
     "metadata": {},
     "output_type": "execute_result"
    }
   ],
   "source": [
    "circy = Circle(4.44)\n",
    "circy.getPerimeter()"
   ]
  },
  {
   "cell_type": "markdown",
   "id": "induced-mission",
   "metadata": {},
   "source": [
    "Question4\n",
    "Create a function that takes a list of strings and return a list, sorted from shortest to longest."
   ]
  },
  {
   "cell_type": "code",
   "execution_count": 3,
   "id": "powered-testing",
   "metadata": {},
   "outputs": [],
   "source": [
    "def sort_by_length(l):\n",
    "    d = {}\n",
    "    ans = []\n",
    "    for i in l:\n",
    "        l=len(i)\n",
    "        d[l] = i\n",
    "    for j in sorted(d.keys()):\n",
    "        ans.append(d[j])\n",
    "    return ans\n",
    "           "
   ]
  },
  {
   "cell_type": "code",
   "execution_count": 4,
   "id": "above-irrigation",
   "metadata": {},
   "outputs": [
    {
     "name": "stdout",
     "output_type": "stream",
     "text": [
      "['Apple', 'Google', 'Microsoft']\n"
     ]
    }
   ],
   "source": [
    "print(sort_by_length([\"Google\",\"Apple\",\"Microsoft\"]))"
   ]
  },
  {
   "cell_type": "code",
   "execution_count": 5,
   "id": "talented-cooperative",
   "metadata": {},
   "outputs": [
    {
     "name": "stdout",
     "output_type": "stream",
     "text": [
      "['Raphael', 'Leonardo', 'Donatello', 'Michelangelo']\n"
     ]
    }
   ],
   "source": [
    "print(sort_by_length([\"Leonardo\", \"Michelangelo\", \"Raphael\", \"Donatello\"]))"
   ]
  },
  {
   "cell_type": "code",
   "execution_count": 9,
   "id": "handy-lover",
   "metadata": {},
   "outputs": [
    {
     "name": "stdout",
     "output_type": "stream",
     "text": [
      "['Jung', 'Turing', 'Einstein']\n"
     ]
    }
   ],
   "source": [
    "print(sort_by_length([\"Turing\", \"Einstein\", \"Jung\"]))"
   ]
  },
  {
   "cell_type": "markdown",
   "id": "otherwise-account",
   "metadata": {},
   "source": [
    "Question5\n",
    "Create a function that validates whether three given integers form a Pythagorean triplet. The\n",
    "sum of the squares of the two smallest integers must equal the square of the largest number to\n",
    "be validated."
   ]
  },
  {
   "cell_type": "code",
   "execution_count": 24,
   "id": "graduate-change",
   "metadata": {},
   "outputs": [],
   "source": [
    "def is_triplet(a,b,c):\n",
    "    l = [a,b,c]\n",
    "    l.sort()\n",
    "    if l[2]**2 == l[0]**2 + l[1]**2:\n",
    "        return True\n",
    "    else:\n",
    "        return False\n",
    "    "
   ]
  },
  {
   "cell_type": "code",
   "execution_count": 26,
   "id": "formal-dividend",
   "metadata": {},
   "outputs": [
    {
     "name": "stdout",
     "output_type": "stream",
     "text": [
      "True\n"
     ]
    }
   ],
   "source": [
    "print(is_triplet(3,4,5))"
   ]
  },
  {
   "cell_type": "code",
   "execution_count": 27,
   "id": "passing-country",
   "metadata": {},
   "outputs": [
    {
     "name": "stdout",
     "output_type": "stream",
     "text": [
      "True\n"
     ]
    }
   ],
   "source": [
    "print(is_triplet(13, 5, 12))"
   ]
  },
  {
   "cell_type": "code",
   "execution_count": 28,
   "id": "possible-ethics",
   "metadata": {},
   "outputs": [
    {
     "name": "stdout",
     "output_type": "stream",
     "text": [
      "False\n"
     ]
    }
   ],
   "source": [
    "print(is_triplet(1, 2, 3))"
   ]
  },
  {
   "cell_type": "code",
   "execution_count": null,
   "id": "assumed-plaintiff",
   "metadata": {},
   "outputs": [],
   "source": []
  }
 ],
 "metadata": {
  "kernelspec": {
   "display_name": "Python 3",
   "language": "python",
   "name": "python3"
  },
  "language_info": {
   "codemirror_mode": {
    "name": "ipython",
    "version": 3
   },
   "file_extension": ".py",
   "mimetype": "text/x-python",
   "name": "python",
   "nbconvert_exporter": "python",
   "pygments_lexer": "ipython3",
   "version": "3.7.10"
  }
 },
 "nbformat": 4,
 "nbformat_minor": 5
}
